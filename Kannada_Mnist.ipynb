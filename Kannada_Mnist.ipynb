{
  "nbformat": 4,
  "nbformat_minor": 0,
  "metadata": {
    "colab": {
      "name": "Kannada_Mnist.ipynb",
      "provenance": [],
      "collapsed_sections": [],
      "include_colab_link": true
    },
    "kernelspec": {
      "name": "python3",
      "display_name": "Python 3"
    },
    "accelerator": "GPU"
  },
  "cells": [
    {
      "cell_type": "markdown",
      "metadata": {
        "id": "view-in-github",
        "colab_type": "text"
      },
      "source": [
        "<a href=\"https://colab.research.google.com/github/dimi-fn/Kannada-Mnist-Digits/blob/main/Kannada_Mnist.ipynb\" target=\"_parent\"><img src=\"https://colab.research.google.com/assets/colab-badge.svg\" alt=\"Open In Colab\"/></a>"
      ]
    },
    {
      "cell_type": "code",
      "metadata": {
        "id": "0T-llV0fGUZJ"
      },
      "source": [
        "# importing libraries for data analysis and manipulation\n",
        "import pandas as pd\n",
        "import numpy as np"
      ],
      "execution_count": 1,
      "outputs": []
    },
    {
      "cell_type": "code",
      "metadata": {
        "id": "r8bR6k-jFNXK",
        "outputId": "ac2b992f-b791-420e-dc37-effc7f5aba65",
        "colab": {
          "base_uri": "https://localhost:8080/",
          "height": 1000
        }
      },
      "source": [
        "np.random.seed(42) # to make this notebook's output stable across runs\n",
        "\n",
        "# For plotting figures\n",
        "%matplotlib inline\n",
        "import matplotlib as mpl\n",
        "import matplotlib.pyplot as plt\n",
        "mpl.rc('axes', labelsize=15)\n",
        "mpl.rc('xtick', labelsize=12)\n",
        "mpl.rc('ytick', labelsize=12)\n",
        "\n",
        "\n",
        "# Generating the version of a wide variety of packages/libraries used & working environment\n",
        "pd.__version__\n",
        "pd.show_versions(as_json=False)\n"
      ],
      "execution_count": 2,
      "outputs": [
        {
          "output_type": "stream",
          "text": [
            "/usr/local/lib/python3.6/dist-packages/psycopg2/__init__.py:144: UserWarning: The psycopg2 wheel package will be renamed from release 2.8; in order to keep installing from binary please use \"pip install psycopg2-binary\" instead. For details see: <http://initd.org/psycopg/docs/install.html#binary-install-from-pypi>.\n",
            "  \"\"\")\n"
          ],
          "name": "stderr"
        },
        {
          "output_type": "stream",
          "text": [
            "\n",
            "INSTALLED VERSIONS\n",
            "------------------\n",
            "commit           : 2a7d3326dee660824a8433ffd01065f8ac37f7d6\n",
            "python           : 3.6.9.final.0\n",
            "python-bits      : 64\n",
            "OS               : Linux\n",
            "OS-release       : 4.19.112+\n",
            "Version          : #1 SMP Thu Jul 23 08:00:38 PDT 2020\n",
            "machine          : x86_64\n",
            "processor        : x86_64\n",
            "byteorder        : little\n",
            "LC_ALL           : None\n",
            "LANG             : en_US.UTF-8\n",
            "LOCALE           : en_US.UTF-8\n",
            "\n",
            "pandas           : 1.1.2\n",
            "numpy            : 1.18.5\n",
            "pytz             : 2018.9\n",
            "dateutil         : 2.8.1\n",
            "pip              : 19.3.1\n",
            "setuptools       : 50.3.0\n",
            "Cython           : 0.29.21\n",
            "pytest           : 3.6.4\n",
            "hypothesis       : None\n",
            "sphinx           : 1.8.5\n",
            "blosc            : None\n",
            "feather          : 0.4.1\n",
            "xlsxwriter       : None\n",
            "lxml.etree       : 4.2.6\n",
            "html5lib         : 1.0.1\n",
            "pymysql          : None\n",
            "psycopg2         : 2.7.6.1 (dt dec pq3 ext lo64)\n",
            "jinja2           : 2.11.2\n",
            "IPython          : 5.5.0\n",
            "pandas_datareader: 0.9.0\n",
            "bs4              : 4.6.3\n",
            "bottleneck       : 1.3.2\n",
            "fsspec           : None\n",
            "fastparquet      : None\n",
            "gcsfs            : None\n",
            "matplotlib       : 3.2.2\n",
            "numexpr          : 2.7.1\n",
            "odfpy            : None\n",
            "openpyxl         : 2.5.9\n",
            "pandas_gbq       : 0.13.2\n",
            "pyarrow          : 0.14.1\n",
            "pytables         : None\n",
            "pyxlsb           : None\n",
            "s3fs             : None\n",
            "scipy            : 1.4.1\n",
            "sqlalchemy       : 1.3.19\n",
            "tables           : 3.4.4\n",
            "tabulate         : 0.8.7\n",
            "xarray           : 0.15.1\n",
            "xlrd             : 1.1.0\n",
            "xlwt             : 1.3.0\n",
            "numba            : 0.48.0\n"
          ],
          "name": "stdout"
        }
      ]
    },
    {
      "cell_type": "code",
      "metadata": {
        "id": "u7a6eK2mRNJx",
        "outputId": "fe8c7782-e0b3-4d55-da06-939041152e1b",
        "colab": {
          "base_uri": "https://localhost:8080/",
          "height": 50
        }
      },
      "source": [
        "import tensorflow as tf # open source Deep Leaning library\n",
        "from tensorflow import keras # Deep Learning API\n",
        "print (\"Tensorflow version is {}\".format(tf.__version__))\n",
        "print (\"Keras Version is {}\".format(keras.__version__))"
      ],
      "execution_count": 3,
      "outputs": [
        {
          "output_type": "stream",
          "text": [
            "Tensorflow version is 2.3.0\n",
            "Keras Version is 2.4.0\n"
          ],
          "name": "stdout"
        }
      ]
    },
    {
      "cell_type": "code",
      "metadata": {
        "id": "GLAmWcUacAsf",
        "outputId": "3596c137-72d5-4dcf-84a2-8ebfdd46cfc7",
        "colab": {
          "resources": {
            "http://localhost:8080/nbextensions/google.colab/files.js": {
              "data": "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",
              "ok": true,
              "headers": [
                [
                  "content-type",
                  "application/javascript"
                ]
              ],
              "status": 200,
              "status_text": ""
            }
          },
          "base_uri": "https://localhost:8080/",
          "height": 90
        }
      },
      "source": [
        "# Here we upload the .json file containing the credentials to use the API.\n",
        "from google.colab import files\n",
        "files.upload()"
      ],
      "execution_count": 4,
      "outputs": [
        {
          "output_type": "display_data",
          "data": {
            "text/html": [
              "\n",
              "     <input type=\"file\" id=\"files-be6b15d2-c6a1-4078-8fbe-cf66ef625b4a\" name=\"files[]\" multiple disabled\n",
              "        style=\"border:none\" />\n",
              "     <output id=\"result-be6b15d2-c6a1-4078-8fbe-cf66ef625b4a\">\n",
              "      Upload widget is only available when the cell has been executed in the\n",
              "      current browser session. Please rerun this cell to enable.\n",
              "      </output>\n",
              "      <script src=\"/nbextensions/google.colab/files.js\"></script> "
            ],
            "text/plain": [
              "<IPython.core.display.HTML object>"
            ]
          },
          "metadata": {
            "tags": []
          }
        },
        {
          "output_type": "stream",
          "text": [
            "Saving kaggle.json to kaggle.json\n"
          ],
          "name": "stdout"
        },
        {
          "output_type": "execute_result",
          "data": {
            "text/plain": [
              "{'kaggle.json': b'{\"username\":\"dimi44\",\"key\":\"276cb4d2f2d28fb5c361b0ffa2ab546c\"}'}"
            ]
          },
          "metadata": {
            "tags": []
          },
          "execution_count": 4
        }
      ]
    },
    {
      "cell_type": "code",
      "metadata": {
        "id": "xSTa3Tadd2sZ"
      },
      "source": [
        "!mkdir -p ~/.kaggle\n",
        "!cp kaggle.json ~/.kaggle/kaggle.json\n",
        "!chmod 600 /root/.kaggle/kaggle.json"
      ],
      "execution_count": 5,
      "outputs": []
    },
    {
      "cell_type": "code",
      "metadata": {
        "id": "dt6xDO-dcAvq",
        "outputId": "d5e098c1-5b02-462a-caef-f458aebeec8c",
        "colab": {
          "base_uri": "https://localhost:8080/",
          "height": 218
        }
      },
      "source": [
        "!pip install kaggle"
      ],
      "execution_count": 6,
      "outputs": [
        {
          "output_type": "stream",
          "text": [
            "Requirement already satisfied: kaggle in /usr/local/lib/python3.6/dist-packages (1.5.8)\n",
            "Requirement already satisfied: requests in /usr/local/lib/python3.6/dist-packages (from kaggle) (2.23.0)\n",
            "Requirement already satisfied: slugify in /usr/local/lib/python3.6/dist-packages (from kaggle) (0.0.1)\n",
            "Requirement already satisfied: tqdm in /usr/local/lib/python3.6/dist-packages (from kaggle) (4.41.1)\n",
            "Requirement already satisfied: certifi in /usr/local/lib/python3.6/dist-packages (from kaggle) (2020.6.20)\n",
            "Requirement already satisfied: urllib3<1.25,>=1.21.1 in /usr/local/lib/python3.6/dist-packages (from kaggle) (1.24.3)\n",
            "Requirement already satisfied: python-dateutil in /usr/local/lib/python3.6/dist-packages (from kaggle) (2.8.1)\n",
            "Requirement already satisfied: python-slugify in /usr/local/lib/python3.6/dist-packages (from kaggle) (4.0.1)\n",
            "Requirement already satisfied: six>=1.10 in /usr/local/lib/python3.6/dist-packages (from kaggle) (1.15.0)\n",
            "Requirement already satisfied: chardet<4,>=3.0.2 in /usr/local/lib/python3.6/dist-packages (from requests->kaggle) (3.0.4)\n",
            "Requirement already satisfied: idna<3,>=2.5 in /usr/local/lib/python3.6/dist-packages (from requests->kaggle) (2.10)\n",
            "Requirement already satisfied: text-unidecode>=1.3 in /usr/local/lib/python3.6/dist-packages (from python-slugify->kaggle) (1.3)\n"
          ],
          "name": "stdout"
        }
      ]
    },
    {
      "cell_type": "code",
      "metadata": {
        "id": "ZjW20mzvcAyo",
        "outputId": "0593cce1-8bf2-452a-da5a-b20669410203",
        "colab": {
          "base_uri": "https://localhost:8080/",
          "height": 134
        }
      },
      "source": [
        "# Download MNIST data\n",
        "!kaggle competitions download -c cs98x-kannada-mnist --force "
      ],
      "execution_count": 7,
      "outputs": [
        {
          "output_type": "stream",
          "text": [
            "Warning: Looks like you're using an outdated API Version, please consider updating (server 1.5.6 / client 1.5.4)\n",
            "Downloading training.csv.zip to /content\n",
            " 50% 5.00M/9.92M [00:00<00:00, 31.0MB/s]\n",
            "100% 9.92M/9.92M [00:00<00:00, 39.5MB/s]\n",
            "Downloading test.csv.zip to /content\n",
            "  0% 0.00/1.79M [00:00<?, ?B/s]\n",
            "100% 1.79M/1.79M [00:00<00:00, 122MB/s]\n"
          ],
          "name": "stdout"
        }
      ]
    },
    {
      "cell_type": "code",
      "metadata": {
        "id": "X6MyFuxDcA4G"
      },
      "source": [
        "#Unzip MNIST Data\n",
        "import zipfile\n",
        "\n",
        "with zipfile.ZipFile(\"test.csv.zip\",\"r\") as zip_ref:\n",
        "    zip_ref.extractall(\"/content\")\n",
        "with zipfile.ZipFile(\"training.csv.zip\",\"r\") as zip_ref:\n",
        "    zip_ref.extractall(\"/content\")"
      ],
      "execution_count": 8,
      "outputs": []
    },
    {
      "cell_type": "code",
      "metadata": {
        "id": "nqE8BZtNcA83"
      },
      "source": [
        "# Load MNIST Data\n",
        "kannada_test = pd.read_csv(\"test.csv\")\n",
        "kannada_train = pd.read_csv(\"training.csv\")"
      ],
      "execution_count": 9,
      "outputs": []
    },
    {
      "cell_type": "markdown",
      "metadata": {
        "id": "NlijdYRodmsp"
      },
      "source": [
        "# 1| Kannada Mnist Dataset\n",
        "The task is to classify the kannada handwritten digits. "
      ]
    },
    {
      "cell_type": "markdown",
      "metadata": {
        "id": "G1kmjFkSduJY"
      },
      "source": [
        "## Exploration of the Dataset"
      ]
    },
    {
      "cell_type": "code",
      "metadata": {
        "id": "wUf_j6Emdx3Z",
        "outputId": "5f2705fd-7299-4105-a035-f6940d7340da",
        "colab": {
          "base_uri": "https://localhost:8080/",
          "height": 126
        }
      },
      "source": [
        "kannada_train.tail(1) # last row of the train set"
      ],
      "execution_count": 10,
      "outputs": [
        {
          "output_type": "execute_result",
          "data": {
            "text/html": [
              "<div>\n",
              "<style scoped>\n",
              "    .dataframe tbody tr th:only-of-type {\n",
              "        vertical-align: middle;\n",
              "    }\n",
              "\n",
              "    .dataframe tbody tr th {\n",
              "        vertical-align: top;\n",
              "    }\n",
              "\n",
              "    .dataframe thead th {\n",
              "        text-align: right;\n",
              "    }\n",
              "</style>\n",
              "<table border=\"1\" class=\"dataframe\">\n",
              "  <thead>\n",
              "    <tr style=\"text-align: right;\">\n",
              "      <th></th>\n",
              "      <th>id</th>\n",
              "      <th>label</th>\n",
              "      <th>pixel0</th>\n",
              "      <th>pixel1</th>\n",
              "      <th>pixel2</th>\n",
              "      <th>pixel3</th>\n",
              "      <th>pixel4</th>\n",
              "      <th>pixel5</th>\n",
              "      <th>pixel6</th>\n",
              "      <th>pixel7</th>\n",
              "      <th>pixel8</th>\n",
              "      <th>pixel9</th>\n",
              "      <th>pixel10</th>\n",
              "      <th>pixel11</th>\n",
              "      <th>pixel12</th>\n",
              "      <th>pixel13</th>\n",
              "      <th>pixel14</th>\n",
              "      <th>pixel15</th>\n",
              "      <th>pixel16</th>\n",
              "      <th>pixel17</th>\n",
              "      <th>pixel18</th>\n",
              "      <th>pixel19</th>\n",
              "      <th>pixel20</th>\n",
              "      <th>pixel21</th>\n",
              "      <th>pixel22</th>\n",
              "      <th>pixel23</th>\n",
              "      <th>pixel24</th>\n",
              "      <th>pixel25</th>\n",
              "      <th>pixel26</th>\n",
              "      <th>pixel27</th>\n",
              "      <th>pixel28</th>\n",
              "      <th>pixel29</th>\n",
              "      <th>pixel30</th>\n",
              "      <th>pixel31</th>\n",
              "      <th>pixel32</th>\n",
              "      <th>pixel33</th>\n",
              "      <th>pixel34</th>\n",
              "      <th>pixel35</th>\n",
              "      <th>pixel36</th>\n",
              "      <th>pixel37</th>\n",
              "      <th>...</th>\n",
              "      <th>pixel744</th>\n",
              "      <th>pixel745</th>\n",
              "      <th>pixel746</th>\n",
              "      <th>pixel747</th>\n",
              "      <th>pixel748</th>\n",
              "      <th>pixel749</th>\n",
              "      <th>pixel750</th>\n",
              "      <th>pixel751</th>\n",
              "      <th>pixel752</th>\n",
              "      <th>pixel753</th>\n",
              "      <th>pixel754</th>\n",
              "      <th>pixel755</th>\n",
              "      <th>pixel756</th>\n",
              "      <th>pixel757</th>\n",
              "      <th>pixel758</th>\n",
              "      <th>pixel759</th>\n",
              "      <th>pixel760</th>\n",
              "      <th>pixel761</th>\n",
              "      <th>pixel762</th>\n",
              "      <th>pixel763</th>\n",
              "      <th>pixel764</th>\n",
              "      <th>pixel765</th>\n",
              "      <th>pixel766</th>\n",
              "      <th>pixel767</th>\n",
              "      <th>pixel768</th>\n",
              "      <th>pixel769</th>\n",
              "      <th>pixel770</th>\n",
              "      <th>pixel771</th>\n",
              "      <th>pixel772</th>\n",
              "      <th>pixel773</th>\n",
              "      <th>pixel774</th>\n",
              "      <th>pixel775</th>\n",
              "      <th>pixel776</th>\n",
              "      <th>pixel777</th>\n",
              "      <th>pixel778</th>\n",
              "      <th>pixel779</th>\n",
              "      <th>pixel780</th>\n",
              "      <th>pixel781</th>\n",
              "      <th>pixel782</th>\n",
              "      <th>pixel783</th>\n",
              "    </tr>\n",
              "  </thead>\n",
              "  <tbody>\n",
              "    <tr>\n",
              "      <th>59999</th>\n",
              "      <td>60000</td>\n",
              "      <td>9</td>\n",
              "      <td>0</td>\n",
              "      <td>0</td>\n",
              "      <td>0</td>\n",
              "      <td>0</td>\n",
              "      <td>0</td>\n",
              "      <td>0</td>\n",
              "      <td>0</td>\n",
              "      <td>0</td>\n",
              "      <td>0</td>\n",
              "      <td>0</td>\n",
              "      <td>0</td>\n",
              "      <td>0</td>\n",
              "      <td>0</td>\n",
              "      <td>0</td>\n",
              "      <td>0</td>\n",
              "      <td>0</td>\n",
              "      <td>0</td>\n",
              "      <td>0</td>\n",
              "      <td>0</td>\n",
              "      <td>0</td>\n",
              "      <td>0</td>\n",
              "      <td>0</td>\n",
              "      <td>0</td>\n",
              "      <td>0</td>\n",
              "      <td>0</td>\n",
              "      <td>0</td>\n",
              "      <td>0</td>\n",
              "      <td>0</td>\n",
              "      <td>0</td>\n",
              "      <td>0</td>\n",
              "      <td>0</td>\n",
              "      <td>0</td>\n",
              "      <td>0</td>\n",
              "      <td>0</td>\n",
              "      <td>0</td>\n",
              "      <td>0</td>\n",
              "      <td>0</td>\n",
              "      <td>0</td>\n",
              "      <td>...</td>\n",
              "      <td>0</td>\n",
              "      <td>0</td>\n",
              "      <td>0</td>\n",
              "      <td>0</td>\n",
              "      <td>0</td>\n",
              "      <td>0</td>\n",
              "      <td>0</td>\n",
              "      <td>0</td>\n",
              "      <td>0</td>\n",
              "      <td>0</td>\n",
              "      <td>0</td>\n",
              "      <td>0</td>\n",
              "      <td>0</td>\n",
              "      <td>0</td>\n",
              "      <td>0</td>\n",
              "      <td>0</td>\n",
              "      <td>0</td>\n",
              "      <td>0</td>\n",
              "      <td>0</td>\n",
              "      <td>0</td>\n",
              "      <td>0</td>\n",
              "      <td>0</td>\n",
              "      <td>0</td>\n",
              "      <td>0</td>\n",
              "      <td>0</td>\n",
              "      <td>0</td>\n",
              "      <td>0</td>\n",
              "      <td>0</td>\n",
              "      <td>0</td>\n",
              "      <td>0</td>\n",
              "      <td>0</td>\n",
              "      <td>0</td>\n",
              "      <td>0</td>\n",
              "      <td>0</td>\n",
              "      <td>0</td>\n",
              "      <td>0</td>\n",
              "      <td>0</td>\n",
              "      <td>0</td>\n",
              "      <td>0</td>\n",
              "      <td>0</td>\n",
              "    </tr>\n",
              "  </tbody>\n",
              "</table>\n",
              "<p>1 rows × 786 columns</p>\n",
              "</div>"
            ],
            "text/plain": [
              "          id  label  pixel0  pixel1  ...  pixel780  pixel781  pixel782  pixel783\n",
              "59999  60000      9       0       0  ...         0         0         0         0\n",
              "\n",
              "[1 rows x 786 columns]"
            ]
          },
          "metadata": {
            "tags": []
          },
          "execution_count": 10
        }
      ]
    },
    {
      "cell_type": "code",
      "metadata": {
        "id": "YNxWw9iXdzGp",
        "outputId": "fed5cf94-1494-4b70-8017-a2694c3fb27c",
        "colab": {
          "base_uri": "https://localhost:8080/",
          "height": 126
        }
      },
      "source": [
        "kannada_test.head(1) # first row of the test set"
      ],
      "execution_count": 11,
      "outputs": [
        {
          "output_type": "execute_result",
          "data": {
            "text/html": [
              "<div>\n",
              "<style scoped>\n",
              "    .dataframe tbody tr th:only-of-type {\n",
              "        vertical-align: middle;\n",
              "    }\n",
              "\n",
              "    .dataframe tbody tr th {\n",
              "        vertical-align: top;\n",
              "    }\n",
              "\n",
              "    .dataframe thead th {\n",
              "        text-align: right;\n",
              "    }\n",
              "</style>\n",
              "<table border=\"1\" class=\"dataframe\">\n",
              "  <thead>\n",
              "    <tr style=\"text-align: right;\">\n",
              "      <th></th>\n",
              "      <th>id</th>\n",
              "      <th>pixel0</th>\n",
              "      <th>pixel1</th>\n",
              "      <th>pixel2</th>\n",
              "      <th>pixel3</th>\n",
              "      <th>pixel4</th>\n",
              "      <th>pixel5</th>\n",
              "      <th>pixel6</th>\n",
              "      <th>pixel7</th>\n",
              "      <th>pixel8</th>\n",
              "      <th>pixel9</th>\n",
              "      <th>pixel10</th>\n",
              "      <th>pixel11</th>\n",
              "      <th>pixel12</th>\n",
              "      <th>pixel13</th>\n",
              "      <th>pixel14</th>\n",
              "      <th>pixel15</th>\n",
              "      <th>pixel16</th>\n",
              "      <th>pixel17</th>\n",
              "      <th>pixel18</th>\n",
              "      <th>pixel19</th>\n",
              "      <th>pixel20</th>\n",
              "      <th>pixel21</th>\n",
              "      <th>pixel22</th>\n",
              "      <th>pixel23</th>\n",
              "      <th>pixel24</th>\n",
              "      <th>pixel25</th>\n",
              "      <th>pixel26</th>\n",
              "      <th>pixel27</th>\n",
              "      <th>pixel28</th>\n",
              "      <th>pixel29</th>\n",
              "      <th>pixel30</th>\n",
              "      <th>pixel31</th>\n",
              "      <th>pixel32</th>\n",
              "      <th>pixel33</th>\n",
              "      <th>pixel34</th>\n",
              "      <th>pixel35</th>\n",
              "      <th>pixel36</th>\n",
              "      <th>pixel37</th>\n",
              "      <th>pixel38</th>\n",
              "      <th>...</th>\n",
              "      <th>pixel744</th>\n",
              "      <th>pixel745</th>\n",
              "      <th>pixel746</th>\n",
              "      <th>pixel747</th>\n",
              "      <th>pixel748</th>\n",
              "      <th>pixel749</th>\n",
              "      <th>pixel750</th>\n",
              "      <th>pixel751</th>\n",
              "      <th>pixel752</th>\n",
              "      <th>pixel753</th>\n",
              "      <th>pixel754</th>\n",
              "      <th>pixel755</th>\n",
              "      <th>pixel756</th>\n",
              "      <th>pixel757</th>\n",
              "      <th>pixel758</th>\n",
              "      <th>pixel759</th>\n",
              "      <th>pixel760</th>\n",
              "      <th>pixel761</th>\n",
              "      <th>pixel762</th>\n",
              "      <th>pixel763</th>\n",
              "      <th>pixel764</th>\n",
              "      <th>pixel765</th>\n",
              "      <th>pixel766</th>\n",
              "      <th>pixel767</th>\n",
              "      <th>pixel768</th>\n",
              "      <th>pixel769</th>\n",
              "      <th>pixel770</th>\n",
              "      <th>pixel771</th>\n",
              "      <th>pixel772</th>\n",
              "      <th>pixel773</th>\n",
              "      <th>pixel774</th>\n",
              "      <th>pixel775</th>\n",
              "      <th>pixel776</th>\n",
              "      <th>pixel777</th>\n",
              "      <th>pixel778</th>\n",
              "      <th>pixel779</th>\n",
              "      <th>pixel780</th>\n",
              "      <th>pixel781</th>\n",
              "      <th>pixel782</th>\n",
              "      <th>pixel783</th>\n",
              "    </tr>\n",
              "  </thead>\n",
              "  <tbody>\n",
              "    <tr>\n",
              "      <th>0</th>\n",
              "      <td>60001</td>\n",
              "      <td>0</td>\n",
              "      <td>0</td>\n",
              "      <td>0</td>\n",
              "      <td>0</td>\n",
              "      <td>0</td>\n",
              "      <td>0</td>\n",
              "      <td>0</td>\n",
              "      <td>0</td>\n",
              "      <td>0</td>\n",
              "      <td>0</td>\n",
              "      <td>0</td>\n",
              "      <td>0</td>\n",
              "      <td>0</td>\n",
              "      <td>0</td>\n",
              "      <td>0</td>\n",
              "      <td>0</td>\n",
              "      <td>0</td>\n",
              "      <td>0</td>\n",
              "      <td>0</td>\n",
              "      <td>0</td>\n",
              "      <td>0</td>\n",
              "      <td>0</td>\n",
              "      <td>0</td>\n",
              "      <td>0</td>\n",
              "      <td>0</td>\n",
              "      <td>0</td>\n",
              "      <td>0</td>\n",
              "      <td>0</td>\n",
              "      <td>0</td>\n",
              "      <td>0</td>\n",
              "      <td>0</td>\n",
              "      <td>0</td>\n",
              "      <td>0</td>\n",
              "      <td>0</td>\n",
              "      <td>0</td>\n",
              "      <td>0</td>\n",
              "      <td>0</td>\n",
              "      <td>0</td>\n",
              "      <td>0</td>\n",
              "      <td>...</td>\n",
              "      <td>0</td>\n",
              "      <td>0</td>\n",
              "      <td>0</td>\n",
              "      <td>0</td>\n",
              "      <td>0</td>\n",
              "      <td>0</td>\n",
              "      <td>0</td>\n",
              "      <td>0</td>\n",
              "      <td>0</td>\n",
              "      <td>0</td>\n",
              "      <td>0</td>\n",
              "      <td>0</td>\n",
              "      <td>0</td>\n",
              "      <td>0</td>\n",
              "      <td>0</td>\n",
              "      <td>0</td>\n",
              "      <td>0</td>\n",
              "      <td>0</td>\n",
              "      <td>0</td>\n",
              "      <td>0</td>\n",
              "      <td>0</td>\n",
              "      <td>0</td>\n",
              "      <td>0</td>\n",
              "      <td>0</td>\n",
              "      <td>0</td>\n",
              "      <td>0</td>\n",
              "      <td>0</td>\n",
              "      <td>0</td>\n",
              "      <td>0</td>\n",
              "      <td>0</td>\n",
              "      <td>0</td>\n",
              "      <td>0</td>\n",
              "      <td>0</td>\n",
              "      <td>0</td>\n",
              "      <td>0</td>\n",
              "      <td>0</td>\n",
              "      <td>0</td>\n",
              "      <td>0</td>\n",
              "      <td>0</td>\n",
              "      <td>0</td>\n",
              "    </tr>\n",
              "  </tbody>\n",
              "</table>\n",
              "<p>1 rows × 785 columns</p>\n",
              "</div>"
            ],
            "text/plain": [
              "      id  pixel0  pixel1  pixel2  ...  pixel780  pixel781  pixel782  pixel783\n",
              "0  60001       0       0       0  ...         0         0         0         0\n",
              "\n",
              "[1 rows x 785 columns]"
            ]
          },
          "metadata": {
            "tags": []
          },
          "execution_count": 11
        }
      ]
    },
    {
      "cell_type": "markdown",
      "metadata": {
        "id": "3r_05ddPu_Wb"
      },
      "source": [
        "So we can notice that every image is represented as a 1D array of size 784 (exluding the columns \"id\" and \"label\" in the train set, and \"id\" in the train set).\n",
        "\n",
        "There is need to:\n",
        " - drop the the \"id\" column from the train and test set (since it will not offer any substantial contribution), and assign the column \"label\" as the training target (y_train_full).\n",
        " - convert the images into 2D array of 28x28 pixels in order to apply Deep Neural Networks (DNNs)."
      ]
    },
    {
      "cell_type": "code",
      "metadata": {
        "id": "No6c2dK_vQUN"
      },
      "source": [
        "X_train_full_1= kannada_train.drop('id', axis=1)  \n",
        "X_train_full= X_train_full_1.drop('label', axis=1)\n",
        "\n",
        "X_test = kannada_test.drop(['id'], axis=1) \n",
        "\n",
        "y_train_full= kannada_train['label'].copy() #target"
      ],
      "execution_count": 12,
      "outputs": []
    },
    {
      "cell_type": "code",
      "metadata": {
        "id": "Y0wuha3A_oO8",
        "outputId": "bb94a322-24f0-4d73-9990-3d680744b26d",
        "colab": {
          "base_uri": "https://localhost:8080/",
          "height": 118
        }
      },
      "source": [
        "print ('Shape of X_train_full is: {}'.format(X_train_full.shape))\n",
        "print ('#****************************************************************************#')\n",
        "\n",
        "print ('Shape of y_train_full is: {}'.format(y_train_full.shape))\n",
        "print ('#****************************************************************************#')\n",
        "\n",
        "print ('Shape of X_test is: {}'.format(X_test.shape))\n",
        "print ('#****************************************************************************#')\n"
      ],
      "execution_count": 13,
      "outputs": [
        {
          "output_type": "stream",
          "text": [
            "Shape of X_train_full is: (60000, 784)\n",
            "#****************************************************************************#\n",
            "Shape of y_train_full is: (60000,)\n",
            "#****************************************************************************#\n",
            "Shape of X_test is: (10000, 784)\n",
            "#****************************************************************************#\n"
          ],
          "name": "stdout"
        }
      ]
    },
    {
      "cell_type": "code",
      "metadata": {
        "id": "lXzcpnYm1OT9"
      },
      "source": [
        "#converting to 2D\n",
        "X_train_full = X_train_full.values.reshape(X_train_full.shape[0], 28, 28,)\n",
        "X_test = X_test.values.reshape(X_test.shape[0], 28, 28,)"
      ],
      "execution_count": 14,
      "outputs": []
    },
    {
      "cell_type": "markdown",
      "metadata": {
        "id": "WFXqp5me2m2l"
      },
      "source": [
        "Based on the data description, the pixel-value is an integer between 0 and 255, inclusive. Hence, below we will scale the pixel intensities down to 0-1 range by diving with 255.\n",
        "> Along with that, we will split the training set into a smaller training set and a validation set, in order to proceed to evaluations in the validation set.\n",
        ">> Validation set will get the first 5000 features (around 8% of the train set), and the rest will remain as training set."
      ]
    },
    {
      "cell_type": "code",
      "metadata": {
        "id": "uQvwgZflClfM"
      },
      "source": [
        "X_valid, X_train = X_train_full[:5000] / 255, X_train_full[5000:] / 255 #from 60,000, we give 5,000 to validation\n",
        "y_valid, y_train = y_train_full[:5000], y_train_full[5000:]\n",
        "X_test = X_test / 255   # i did not put \".\" after 255 for float in order to have int"
      ],
      "execution_count": 15,
      "outputs": []
    },
    {
      "cell_type": "code",
      "metadata": {
        "id": "V-qqYOk0Cy-q",
        "outputId": "7ca3e094-3373-41c6-f141-5f06ae8aedbe",
        "colab": {
          "base_uri": "https://localhost:8080/",
          "height": 269
        }
      },
      "source": [
        "print ('Shape of X_train is: {}'.format(X_train.shape))\n",
        "print ('Type of X_train is: {}'.format(X_train.dtype))\n",
        "print ('#****************************************************************************#')\n",
        "\n",
        "print ('Shape of X_valid is: {}'.format(X_valid.shape))\n",
        "print ('Type of X_valid is: {}'.format(X_valid.dtype))\n",
        "print ('#****************************************************************************#')\n",
        "\n",
        "print ('Shape of y_train is: {}'.format(y_train.shape))\n",
        "print ('Type of y_train is: {}'.format(y_train.dtype))\n",
        "print ('#****************************************************************************#')\n",
        "\n",
        "print ('Shape of y_valid is: {}'.format(y_valid.shape))\n",
        "print ('Type of y_valid is: {}'.format(y_valid.dtype))\n",
        "print ('#****************************************************************************#')\n",
        "\n",
        "\n",
        "print ('Shape of X_test is: {}'.format(X_test.shape))\n",
        "print ('Type of X_test is: {}'.format(X_test.dtype))\n",
        "print ('#****************************************************************************#')"
      ],
      "execution_count": 16,
      "outputs": [
        {
          "output_type": "stream",
          "text": [
            "Shape of X_train is: (55000, 28, 28)\n",
            "Type of X_train is: float64\n",
            "#****************************************************************************#\n",
            "Shape of X_valid is: (5000, 28, 28)\n",
            "Type of X_valid is: float64\n",
            "#****************************************************************************#\n",
            "Shape of y_train is: (55000,)\n",
            "Type of y_train is: int64\n",
            "#****************************************************************************#\n",
            "Shape of y_valid is: (5000,)\n",
            "Type of y_valid is: int64\n",
            "#****************************************************************************#\n",
            "Shape of X_test is: (10000, 28, 28)\n",
            "Type of X_test is: float64\n",
            "#****************************************************************************#\n"
          ],
          "name": "stdout"
        }
      ]
    },
    {
      "cell_type": "markdown",
      "metadata": {
        "id": "1BVqa0dNFpBo"
      },
      "source": [
        "> Below we can view the 1st digit of the train set:"
      ]
    },
    {
      "cell_type": "code",
      "metadata": {
        "id": "JnAOLHL0C1dM",
        "outputId": "f38f0b5c-14af-4b8d-eb52-499ddd2ff980",
        "colab": {
          "base_uri": "https://localhost:8080/",
          "height": 248
        }
      },
      "source": [
        "from matplotlib import pyplot as plt\n",
        "plt.imshow(X_train[0], cmap=\"binary\")\n",
        "plt.axis('off')\n",
        "plt.show()"
      ],
      "execution_count": 17,
      "outputs": [
        {
          "output_type": "display_data",
          "data": {
            "image/png": "[encoded data removed]",
            "text/plain": [
              "<Figure size 432x288 with 1 Axes>"
            ]
          },
          "metadata": {
            "tags": [],
            "needs_background": "light"
          }
        }
      ]
    },
    {
      "cell_type": "markdown",
      "metadata": {
        "id": "-MBHdBIXoP53"
      },
      "source": [
        "## Building an image classifier using Gradient Descent and the Sequential API - Model 1\n",
        "\n",
        "> meaning of: #model.add(keras.layers.Flatten(input_shape=[28, 28])):\n",
        ">> This is the 1st layer which we add to the model. It is a flatten layer and its role is to do some preprocessing, and we also specify the input shape of the images.\n",
        "\n",
        "> Then we add two hidden dense layers with 300 and 100 neurons repsectively, using the Rectified Linear Unit (ReLU) activation function.\n",
        "\n",
        ">> Contrary to biological neurons, it has been proved that ReLU activation function is more efficient in deep networks than the logistic-sigmoid activation function (because it does not saturate for positive values and is fast to compute).\n",
        "\n",
        "\n",
        "\n",
        "> In the end we add a dense output layer with 10 neurons, since we have 10 classes, using the softmax activation function (since the classes are exclusive)."
      ]
    },
    {
      "cell_type": "code",
      "metadata": {
        "id": "02N-YmnmFvpd"
      },
      "source": [
        "model1 = keras.models.Sequential([\n",
        "    keras.layers.Flatten(input_shape=[28, 28]),\n",
        "    keras.layers.Dense(300, activation=\"relu\"),\n",
        "    keras.layers.Dense(100, activation=\"relu\"),\n",
        "    keras.layers.Dense(10, activation=\"softmax\")\n",
        "])"
      ],
      "execution_count": 18,
      "outputs": []
    },
    {
      "cell_type": "markdown",
      "metadata": {
        "id": "X6eQjhEHqA-L"
      },
      "source": [
        "> Model's summary() method displays all the model's layers:\n",
        "\n",
        "    - layers' names\n",
        "    - output shape ('none' means the batch size is not specified-can be anything)\n",
        "    - the number of parameters\n",
        "    - total number of parameters\n",
        "    - number of trainable and non-trainable parameters\n",
        "\n",
        ">From the model's summary we can exclude that the 1st hidden layer has 784x300 connection weights, plus 300 bias terms, which adds up to 235,500 parameters and to 266,610 in total.\n"
      ]
    },
    {
      "cell_type": "code",
      "metadata": {
        "id": "V2IaRI-QQptE",
        "outputId": "d8260da0-908f-4e49-ac54-75ef3d0eb035",
        "colab": {
          "base_uri": "https://localhost:8080/",
          "height": 286
        }
      },
      "source": [
        "model1.summary()"
      ],
      "execution_count": 19,
      "outputs": [
        {
          "output_type": "stream",
          "text": [
            "Model: \"sequential\"\n",
            "_________________________________________________________________\n",
            "Layer (type)                 Output Shape              Param #   \n",
            "=================================================================\n",
            "flatten (Flatten)            (None, 784)               0         \n",
            "_________________________________________________________________\n",
            "dense (Dense)                (None, 300)               235500    \n",
            "_________________________________________________________________\n",
            "dense_1 (Dense)              (None, 100)               30100     \n",
            "_________________________________________________________________\n",
            "dense_2 (Dense)              (None, 10)                1010      \n",
            "=================================================================\n",
            "Total params: 266,610\n",
            "Trainable params: 266,610\n",
            "Non-trainable params: 0\n",
            "_________________________________________________________________\n"
          ],
          "name": "stdout"
        }
      ]
    },
    {
      "cell_type": "code",
      "metadata": {
        "id": "pM9WHNX1R3dR",
        "outputId": "16a147af-0620-4dca-e77c-3a12372d90ff",
        "colab": {
          "base_uri": "https://localhost:8080/",
          "height": 533
        }
      },
      "source": [
        "keras.utils.plot_model(model1, show_shapes=True)"
      ],
      "execution_count": 20,
      "outputs": [
        {
          "output_type": "execute_result",
          "data": {
            "image/png": "[encoded data removed]",
            "text/plain": [
              "<IPython.core.display.Image object>"
            ]
          },
          "metadata": {
            "tags": []
          },
          "execution_count": 20
        }
      ]
    },
    {
      "cell_type": "markdown",
      "metadata": {
        "id": "H6rAh-i8qNo-"
      },
      "source": [
        "### Compiling the model:\n",
        "> After a model is created, we use the compile() method to specify:\n",
        "- the loss function\n",
        "- the optimiser\n",
        "\n",
        ">> Using \"sparse_categorical_crossentropy\" in the loss function since there is one target class per instance (i.e. digit number 1 or 2 and so on), and using Stohastic Gradient Desenct as optimiser:"
      ]
    },
    {
      "cell_type": "code",
      "metadata": {
        "id": "5OKn0PtYSJZ7"
      },
      "source": [
        "model1.compile(loss=\"sparse_categorical_crossentropy\", #one target class per instance\n",
        "              optimizer=\"sgd\",                   #Stohastic Gradient Descent\n",
        "              metrics=[\"accuracy\"])"
      ],
      "execution_count": 21,
      "outputs": []
    },
    {
      "cell_type": "markdown",
      "metadata": {
        "id": "2MBLLeLkPPLN"
      },
      "source": [
        "In the end, we can fit the model and train it, here for 30 epochs, and then it can be evaluated on the validation set:"
      ]
    },
    {
      "cell_type": "code",
      "metadata": {
        "id": "vTEdxGNCSOEE",
        "outputId": "d101aef5-36ac-437a-a96c-5843509e3d48",
        "colab": {
          "base_uri": "https://localhost:8080/",
          "height": 1000
        }
      },
      "source": [
        "# X_train -> train predictors ~ input features\n",
        "# y_train -> train targets ~ target classes \n",
        "\n",
        "history = model1.fit(X_train, y_train, epochs=30,\n",
        "                    validation_data=(X_valid, y_valid))"
      ],
      "execution_count": 22,
      "outputs": [
        {
          "output_type": "stream",
          "text": [
            "Epoch 1/30\n",
            "1719/1719 [==============================] - 4s 2ms/step - loss: 0.5948 - accuracy: 0.8609 - val_loss: 0.2779 - val_accuracy: 0.9318\n",
            "Epoch 2/30\n",
            "1719/1719 [==============================] - 4s 2ms/step - loss: 0.2369 - accuracy: 0.9342 - val_loss: 0.2468 - val_accuracy: 0.9348\n",
            "Epoch 3/30\n",
            "1719/1719 [==============================] - 4s 2ms/step - loss: 0.2006 - accuracy: 0.9446 - val_loss: 0.2327 - val_accuracy: 0.9388\n",
            "Epoch 4/30\n",
            "1719/1719 [==============================] - 4s 2ms/step - loss: 0.1792 - accuracy: 0.9508 - val_loss: 0.2235 - val_accuracy: 0.9406\n",
            "Epoch 5/30\n",
            "1719/1719 [==============================] - 4s 2ms/step - loss: 0.1629 - accuracy: 0.9553 - val_loss: 0.2175 - val_accuracy: 0.9412\n",
            "Epoch 6/30\n",
            "1719/1719 [==============================] - 4s 2ms/step - loss: 0.1494 - accuracy: 0.9595 - val_loss: 0.2088 - val_accuracy: 0.9440\n",
            "Epoch 7/30\n",
            "1719/1719 [==============================] - 4s 2ms/step - loss: 0.1377 - accuracy: 0.9629 - val_loss: 0.2047 - val_accuracy: 0.9458\n",
            "Epoch 8/30\n",
            "1719/1719 [==============================] - 4s 2ms/step - loss: 0.1272 - accuracy: 0.9658 - val_loss: 0.2031 - val_accuracy: 0.9444\n",
            "Epoch 9/30\n",
            "1719/1719 [==============================] - 4s 2ms/step - loss: 0.1184 - accuracy: 0.9683 - val_loss: 0.1909 - val_accuracy: 0.9488\n",
            "Epoch 10/30\n",
            "1719/1719 [==============================] - 3s 2ms/step - loss: 0.1099 - accuracy: 0.9705 - val_loss: 0.1871 - val_accuracy: 0.9490\n",
            "Epoch 11/30\n",
            "1719/1719 [==============================] - 3s 2ms/step - loss: 0.1024 - accuracy: 0.9724 - val_loss: 0.1860 - val_accuracy: 0.9490\n",
            "Epoch 12/30\n",
            "1719/1719 [==============================] - 3s 2ms/step - loss: 0.0958 - accuracy: 0.9743 - val_loss: 0.1783 - val_accuracy: 0.9508\n",
            "Epoch 13/30\n",
            "1719/1719 [==============================] - 3s 2ms/step - loss: 0.0896 - accuracy: 0.9760 - val_loss: 0.1741 - val_accuracy: 0.9538\n",
            "Epoch 14/30\n",
            "1719/1719 [==============================] - 3s 2ms/step - loss: 0.0840 - accuracy: 0.9775 - val_loss: 0.1751 - val_accuracy: 0.9536\n",
            "Epoch 15/30\n",
            "1719/1719 [==============================] - 3s 2ms/step - loss: 0.0788 - accuracy: 0.9791 - val_loss: 0.1722 - val_accuracy: 0.9552\n",
            "Epoch 16/30\n",
            "1719/1719 [==============================] - 3s 2ms/step - loss: 0.0737 - accuracy: 0.9808 - val_loss: 0.1696 - val_accuracy: 0.9546\n",
            "Epoch 17/30\n",
            "1719/1719 [==============================] - 3s 2ms/step - loss: 0.0694 - accuracy: 0.9822 - val_loss: 0.1657 - val_accuracy: 0.9568\n",
            "Epoch 18/30\n",
            "1719/1719 [==============================] - 3s 2ms/step - loss: 0.0654 - accuracy: 0.9828 - val_loss: 0.1683 - val_accuracy: 0.9564\n",
            "Epoch 19/30\n",
            "1719/1719 [==============================] - 3s 2ms/step - loss: 0.0613 - accuracy: 0.9844 - val_loss: 0.1665 - val_accuracy: 0.9562\n",
            "Epoch 20/30\n",
            "1719/1719 [==============================] - 3s 2ms/step - loss: 0.0577 - accuracy: 0.9854 - val_loss: 0.1586 - val_accuracy: 0.9602\n",
            "Epoch 21/30\n",
            "1719/1719 [==============================] - 3s 2ms/step - loss: 0.0544 - accuracy: 0.9862 - val_loss: 0.1582 - val_accuracy: 0.9602\n",
            "Epoch 22/30\n",
            "1719/1719 [==============================] - 3s 2ms/step - loss: 0.0513 - accuracy: 0.9870 - val_loss: 0.1626 - val_accuracy: 0.9606\n",
            "Epoch 23/30\n",
            "1719/1719 [==============================] - 3s 2ms/step - loss: 0.0484 - accuracy: 0.9877 - val_loss: 0.1640 - val_accuracy: 0.9584\n",
            "Epoch 24/30\n",
            "1719/1719 [==============================] - 3s 2ms/step - loss: 0.0456 - accuracy: 0.9889 - val_loss: 0.1632 - val_accuracy: 0.9592\n",
            "Epoch 25/30\n",
            "1719/1719 [==============================] - 3s 2ms/step - loss: 0.0432 - accuracy: 0.9896 - val_loss: 0.1581 - val_accuracy: 0.9620\n",
            "Epoch 26/30\n",
            "1719/1719 [==============================] - 3s 2ms/step - loss: 0.0407 - accuracy: 0.9904 - val_loss: 0.1503 - val_accuracy: 0.9630\n",
            "Epoch 27/30\n",
            "1719/1719 [==============================] - 3s 2ms/step - loss: 0.0384 - accuracy: 0.9910 - val_loss: 0.1563 - val_accuracy: 0.9632\n",
            "Epoch 28/30\n",
            "1719/1719 [==============================] - 4s 2ms/step - loss: 0.0362 - accuracy: 0.9915 - val_loss: 0.1587 - val_accuracy: 0.9622\n",
            "Epoch 29/30\n",
            "1719/1719 [==============================] - 4s 2ms/step - loss: 0.0342 - accuracy: 0.9923 - val_loss: 0.1634 - val_accuracy: 0.9590\n",
            "Epoch 30/30\n",
            "1719/1719 [==============================] - 3s 2ms/step - loss: 0.0323 - accuracy: 0.9929 - val_loss: 0.1531 - val_accuracy: 0.9624\n"
          ],
          "name": "stdout"
        }
      ]
    },
    {
      "cell_type": "code",
      "metadata": {
        "id": "e6ksQnbJSoKm",
        "outputId": "df5d0e4a-7100-497b-d19a-d466b2c10090",
        "colab": {
          "base_uri": "https://localhost:8080/",
          "height": 50
        }
      },
      "source": [
        "model1.evaluate(X_valid, y_valid)"
      ],
      "execution_count": 23,
      "outputs": [
        {
          "output_type": "stream",
          "text": [
            "157/157 [==============================] - 0s 2ms/step - loss: 0.1531 - accuracy: 0.9624\n"
          ],
          "name": "stdout"
        },
        {
          "output_type": "execute_result",
          "data": {
            "text/plain": [
              "[0.1530616134405136, 0.9624000191688538]"
            ]
          },
          "metadata": {
            "tags": []
          },
          "execution_count": 23
        }
      ]
    },
    {
      "cell_type": "code",
      "metadata": {
        "id": "3bd0OJ0rSP3q",
        "outputId": "dbed9006-cf6b-42a0-88a9-7aa2cb95188c",
        "colab": {
          "base_uri": "https://localhost:8080/",
          "height": 339
        }
      },
      "source": [
        "pd.DataFrame(history.history).plot(figsize=(8, 5))\n",
        "plt.grid(True)\n",
        "plt.gca().set_ylim(0, 1) # setting the vertical range to [0,1]\n",
        "plt.title('Learning Curves of the training loss and accuracy over each epoch, and the mean validation loss and accuracy at the end of each epoch')\n",
        "plt.show()\n",
        "\n",
        "# Training and validation curves are close between them, \n",
        "# fact which implies that not too much overfitting is taking place"
      ],
      "execution_count": 24,
      "outputs": [
        {
          "output_type": "display_data",
          "data": {
            "image/png": "[encoded data removed]",
            "text/plain": [
              "<Figure size 576x360 with 1 Axes>"
            ]
          },
          "metadata": {
            "tags": [],
            "needs_background": "light"
          }
        }
      ]
    },
    {
      "cell_type": "code",
      "metadata": {
        "id": "CjmnfenZS1vD",
        "outputId": "2f7f131d-db2f-4aa4-e8dd-b982ef315a31",
        "colab": {
          "base_uri": "https://localhost:8080/",
          "height": 235
        }
      },
      "source": [
        "y_test = model1.predict(X_test)\n",
        "y_test\n"
      ],
      "execution_count": 25,
      "outputs": [
        {
          "output_type": "execute_result",
          "data": {
            "text/plain": [
              "array([[9.9868923e-01, 1.7034834e-04, 1.1715073e-08, ..., 1.9032061e-04,\n",
              "        7.8582164e-04, 1.0382945e-07],\n",
              "       [1.0368089e-02, 9.8837101e-01, 1.2443806e-03, ..., 3.9558513e-06,\n",
              "        6.0176462e-06, 1.5691846e-08],\n",
              "       [3.3935052e-05, 5.8115664e-05, 9.9990773e-01, ..., 8.6264230e-08,\n",
              "        1.0345918e-08, 6.3121103e-10],\n",
              "       ...,\n",
              "       [5.0580702e-08, 1.1826418e-09, 2.7710254e-10, ..., 1.8826671e-10,\n",
              "        9.9994683e-01, 3.3175495e-06],\n",
              "       [2.6348329e-04, 4.7314388e-04, 3.0118899e-06, ..., 2.3668430e-04,\n",
              "        3.7202823e-03, 9.9528497e-01],\n",
              "       [2.7972361e-02, 5.9616298e-04, 8.7052013e-06, ..., 7.7681318e-02,\n",
              "        1.4693651e-02, 8.7841320e-01]], dtype=float32)"
            ]
          },
          "metadata": {
            "tags": []
          },
          "execution_count": 25
        }
      ]
    },
    {
      "cell_type": "code",
      "metadata": {
        "id": "PyHAY9XJ_uxJ",
        "outputId": "bf26d3ce-3090-42e6-ed0d-cb6cb3a6fa58",
        "colab": {
          "base_uri": "https://localhost:8080/",
          "height": 87
        }
      },
      "source": [
        "predictions = model1.predict_classes(X_test)"
      ],
      "execution_count": 26,
      "outputs": [
        {
          "output_type": "stream",
          "text": [
            "WARNING:tensorflow:From <ipython-input-26-5fdab7d2c178>:1: Sequential.predict_classes (from tensorflow.python.keras.engine.sequential) is deprecated and will be removed after 2021-01-01.\n",
            "Instructions for updating:\n",
            "Please use instead:* `np.argmax(model.predict(x), axis=-1)`,   if your model does multi-class classification   (e.g. if it uses a `softmax` last-layer activation).* `(model.predict(x) > 0.5).astype(\"int32\")`,   if your model does binary classification   (e.g. if it uses a `sigmoid` last-layer activation).\n"
          ],
          "name": "stdout"
        }
      ]
    },
    {
      "cell_type": "code",
      "metadata": {
        "id": "8wvQ5o7z_1EX",
        "outputId": "d045be15-23db-44ed-97c7-0502e6273421",
        "colab": {
          "base_uri": "https://localhost:8080/",
          "height": 34
        }
      },
      "source": [
        "len(predictions)"
      ],
      "execution_count": 27,
      "outputs": [
        {
          "output_type": "execute_result",
          "data": {
            "text/plain": [
              "10000"
            ]
          },
          "metadata": {
            "tags": []
          },
          "execution_count": 27
        }
      ]
    },
    {
      "cell_type": "code",
      "metadata": {
        "id": "2d3BI3rRCJGI",
        "outputId": "73738746-a224-4ad2-a6e6-514f9aa4e9aa",
        "colab": {
          "base_uri": "https://localhost:8080/",
          "height": 34
        }
      },
      "source": [
        "predictions"
      ],
      "execution_count": 28,
      "outputs": [
        {
          "output_type": "execute_result",
          "data": {
            "text/plain": [
              "array([0, 1, 2, ..., 8, 9, 9])"
            ]
          },
          "metadata": {
            "tags": []
          },
          "execution_count": 28
        }
      ]
    },
    {
      "cell_type": "code",
      "metadata": {
        "id": "gCnildWNAn9z",
        "outputId": "5fa51a0f-3827-45c8-9281-bdb5e7130ec0",
        "colab": {
          "base_uri": "https://localhost:8080/",
          "height": 402
        }
      },
      "source": [
        "submission= pd.DataFrame({'id': kannada_test['id'], 'label': predictions})\n",
        "submission"
      ],
      "execution_count": 29,
      "outputs": [
        {
          "output_type": "execute_result",
          "data": {
            "text/html": [
              "<div>\n",
              "<style scoped>\n",
              "    .dataframe tbody tr th:only-of-type {\n",
              "        vertical-align: middle;\n",
              "    }\n",
              "\n",
              "    .dataframe tbody tr th {\n",
              "        vertical-align: top;\n",
              "    }\n",
              "\n",
              "    .dataframe thead th {\n",
              "        text-align: right;\n",
              "    }\n",
              "</style>\n",
              "<table border=\"1\" class=\"dataframe\">\n",
              "  <thead>\n",
              "    <tr style=\"text-align: right;\">\n",
              "      <th></th>\n",
              "      <th>id</th>\n",
              "      <th>label</th>\n",
              "    </tr>\n",
              "  </thead>\n",
              "  <tbody>\n",
              "    <tr>\n",
              "      <th>0</th>\n",
              "      <td>60001</td>\n",
              "      <td>0</td>\n",
              "    </tr>\n",
              "    <tr>\n",
              "      <th>1</th>\n",
              "      <td>60002</td>\n",
              "      <td>1</td>\n",
              "    </tr>\n",
              "    <tr>\n",
              "      <th>2</th>\n",
              "      <td>60003</td>\n",
              "      <td>2</td>\n",
              "    </tr>\n",
              "    <tr>\n",
              "      <th>3</th>\n",
              "      <td>60004</td>\n",
              "      <td>3</td>\n",
              "    </tr>\n",
              "    <tr>\n",
              "      <th>4</th>\n",
              "      <td>60005</td>\n",
              "      <td>4</td>\n",
              "    </tr>\n",
              "    <tr>\n",
              "      <th>...</th>\n",
              "      <td>...</td>\n",
              "      <td>...</td>\n",
              "    </tr>\n",
              "    <tr>\n",
              "      <th>9995</th>\n",
              "      <td>69996</td>\n",
              "      <td>6</td>\n",
              "    </tr>\n",
              "    <tr>\n",
              "      <th>9996</th>\n",
              "      <td>69997</td>\n",
              "      <td>7</td>\n",
              "    </tr>\n",
              "    <tr>\n",
              "      <th>9997</th>\n",
              "      <td>69998</td>\n",
              "      <td>8</td>\n",
              "    </tr>\n",
              "    <tr>\n",
              "      <th>9998</th>\n",
              "      <td>69999</td>\n",
              "      <td>9</td>\n",
              "    </tr>\n",
              "    <tr>\n",
              "      <th>9999</th>\n",
              "      <td>70000</td>\n",
              "      <td>9</td>\n",
              "    </tr>\n",
              "  </tbody>\n",
              "</table>\n",
              "<p>10000 rows × 2 columns</p>\n",
              "</div>"
            ],
            "text/plain": [
              "         id  label\n",
              "0     60001      0\n",
              "1     60002      1\n",
              "2     60003      2\n",
              "3     60004      3\n",
              "4     60005      4\n",
              "...     ...    ...\n",
              "9995  69996      6\n",
              "9996  69997      7\n",
              "9997  69998      8\n",
              "9998  69999      9\n",
              "9999  70000      9\n",
              "\n",
              "[10000 rows x 2 columns]"
            ]
          },
          "metadata": {
            "tags": []
          },
          "execution_count": 29
        }
      ]
    },
    {
      "cell_type": "code",
      "metadata": {
        "id": "95Sr1RUVLxf7",
        "outputId": "dabe2b55-1800-4e1e-bdd7-b853262038f3",
        "colab": {
          "base_uri": "https://localhost:8080/",
          "height": 52
        }
      },
      "source": [
        "from google.colab import files\n",
        "'''\n",
        "from google.colab import files\n",
        "predictions = model1.predict_classes(X_test)\n",
        "submission= pd.DataFrame({'id': kannada_test['id'], 'label': predictions})\n",
        "submission.to_csv('predictions_01.csv', index = False) \n",
        "files.download('predictions_01.csv') score: 0.95533  *****************************************************************************\n",
        "'''\n"
      ],
      "execution_count": 30,
      "outputs": [
        {
          "output_type": "execute_result",
          "data": {
            "application/vnd.google.colaboratory.intrinsic+json": {
              "type": "string"
            },
            "text/plain": [
              "\"\\nfrom google.colab import files\\npredictions = model1.predict_classes(X_test)\\nsubmission= pd.DataFrame({'id': kannada_test['id'], 'label': predictions})\\nsubmission.to_csv('predictions_01.csv', index = False) \\nfiles.download('predictions_01.csv') score: 0.95533  *****************************************************************************\\n\""
            ]
          },
          "metadata": {
            "tags": []
          },
          "execution_count": 30
        }
      ]
    },
    {
      "cell_type": "markdown",
      "metadata": {
        "id": "tdb2E7VJvJl3"
      },
      "source": [
        "## Challenges in DNNs\n",
        "\n",
        "The flexibility of neural networks coming from the large number of parameters used can lead to the risk of overfitting. Some of the hyperparameters than can be changed are:\n",
        "- number of layers\n",
        "- number of neurons per layer\n",
        "- type of activation function in each layer\n",
        "- weight initialisation logic\n",
        "\n",
        "Also, DNNs suffer from the vanishing/exploding gradients problem (different layers may learn at widely different speeds). One way to alleviate it is by applying the Batch Normalisation technique.\n",
        "\n",
        "\n",
        "## Model 2\n",
        "Creating a DNN model with 20 hidden layers of 50 neurons each, using He normal initialisation, ELU activation function and nadam optimiser. In addition, we implement early stopping using keras.callbacks: it will interrupt training when it measures no progress on the validation set for a number of epochs defined by the 'patience' argument (here patience=20). The number of epochs can be set to a large value since the model will stop if no progress is found in the indicated patience number.\n"
      ]
    },
    {
      "cell_type": "code",
      "metadata": {
        "id": "uCWbfrCCY1EX"
      },
      "source": [
        "keras.backend.clear_session()\n",
        "tf.random.set_seed(42)\n",
        "np.random.seed(42)\n",
        "\n",
        "model2 = keras.models.Sequential()\n",
        "model2.add(keras.layers.Flatten(input_shape=[28, 28]))\n",
        "for _ in range(20):\n",
        "    model2.add(keras.layers.Dense(50,\n",
        "                                 activation=\"elu\",\n",
        "                                 kernel_initializer=\"he_normal\"))\n",
        "    \n",
        "model2.add(keras.layers.Dense(10, activation=\"softmax\"))\n",
        "\n",
        "\n",
        "optimizer = keras.optimizers.Nadam(lr=5e-5)\n",
        "model2.compile(loss=\"sparse_categorical_crossentropy\",\n",
        "              optimizer=optimizer,\n",
        "              metrics=[\"accuracy\"])\n",
        "\n",
        "early_stopping_cb = keras.callbacks.EarlyStopping(patience=20)\n",
        "\n",
        "callbacks = [early_stopping_cb]"
      ],
      "execution_count": 31,
      "outputs": []
    },
    {
      "cell_type": "code",
      "metadata": {
        "id": "KRkO2gM_ZkNH",
        "outputId": "a8a5728c-425a-459e-ab48-7b5fa19f7e86",
        "colab": {
          "base_uri": "https://localhost:8080/",
          "height": 974
        }
      },
      "source": [
        "model2.fit(X_train, y_train, epochs=50,\n",
        "          validation_data=(X_valid, y_valid),\n",
        "          callbacks=callbacks)"
      ],
      "execution_count": 32,
      "outputs": [
        {
          "output_type": "stream",
          "text": [
            "Epoch 1/50\n",
            "1719/1719 [==============================] - 15s 9ms/step - loss: 0.9346 - accuracy: 0.7030 - val_loss: 0.3681 - val_accuracy: 0.8920\n",
            "Epoch 2/50\n",
            "1719/1719 [==============================] - 14s 8ms/step - loss: 0.3169 - accuracy: 0.9065 - val_loss: 0.2893 - val_accuracy: 0.9202\n",
            "Epoch 3/50\n",
            "1719/1719 [==============================] - 14s 8ms/step - loss: 0.2274 - accuracy: 0.9333 - val_loss: 0.2684 - val_accuracy: 0.9234\n",
            "Epoch 4/50\n",
            "1719/1719 [==============================] - 15s 9ms/step - loss: 0.1832 - accuracy: 0.9455 - val_loss: 0.2451 - val_accuracy: 0.9304\n",
            "Epoch 5/50\n",
            "1719/1719 [==============================] - 15s 9ms/step - loss: 0.1546 - accuracy: 0.9541 - val_loss: 0.2577 - val_accuracy: 0.9294\n",
            "Epoch 6/50\n",
            "1719/1719 [==============================] - 14s 8ms/step - loss: 0.1341 - accuracy: 0.9609 - val_loss: 0.2534 - val_accuracy: 0.9330\n",
            "Epoch 7/50\n",
            "1719/1719 [==============================] - 14s 8ms/step - loss: 0.1191 - accuracy: 0.9653 - val_loss: 0.2350 - val_accuracy: 0.9360\n",
            "Epoch 8/50\n",
            "1719/1719 [==============================] - 14s 8ms/step - loss: 0.1071 - accuracy: 0.9685 - val_loss: 0.2195 - val_accuracy: 0.9414\n",
            "Epoch 9/50\n",
            "1719/1719 [==============================] - 14s 8ms/step - loss: 0.0964 - accuracy: 0.9713 - val_loss: 0.2245 - val_accuracy: 0.9396\n",
            "Epoch 10/50\n",
            "1719/1719 [==============================] - 14s 8ms/step - loss: 0.0875 - accuracy: 0.9738 - val_loss: 0.2380 - val_accuracy: 0.9362\n",
            "Epoch 11/50\n",
            "1719/1719 [==============================] - 14s 8ms/step - loss: 0.0796 - accuracy: 0.9760 - val_loss: 0.2362 - val_accuracy: 0.9374\n",
            "Epoch 12/50\n",
            "1719/1719 [==============================] - 14s 8ms/step - loss: 0.0736 - accuracy: 0.9781 - val_loss: 0.2422 - val_accuracy: 0.9374\n",
            "Epoch 13/50\n",
            "1719/1719 [==============================] - 14s 8ms/step - loss: 0.0678 - accuracy: 0.9801 - val_loss: 0.2462 - val_accuracy: 0.9364\n",
            "Epoch 14/50\n",
            "1719/1719 [==============================] - 14s 8ms/step - loss: 0.0620 - accuracy: 0.9818 - val_loss: 0.2575 - val_accuracy: 0.9350\n",
            "Epoch 15/50\n",
            "1719/1719 [==============================] - 14s 8ms/step - loss: 0.0575 - accuracy: 0.9825 - val_loss: 0.2303 - val_accuracy: 0.9442\n",
            "Epoch 16/50\n",
            "1719/1719 [==============================] - 14s 8ms/step - loss: 0.0527 - accuracy: 0.9839 - val_loss: 0.2454 - val_accuracy: 0.9406\n",
            "Epoch 17/50\n",
            "1719/1719 [==============================] - 14s 8ms/step - loss: 0.0484 - accuracy: 0.9857 - val_loss: 0.2418 - val_accuracy: 0.9414\n",
            "Epoch 18/50\n",
            "1719/1719 [==============================] - 14s 8ms/step - loss: 0.0442 - accuracy: 0.9867 - val_loss: 0.2583 - val_accuracy: 0.9388\n",
            "Epoch 19/50\n",
            "1719/1719 [==============================] - 14s 8ms/step - loss: 0.0416 - accuracy: 0.9871 - val_loss: 0.2779 - val_accuracy: 0.9362\n",
            "Epoch 20/50\n",
            "1719/1719 [==============================] - 14s 8ms/step - loss: 0.0382 - accuracy: 0.9889 - val_loss: 0.2550 - val_accuracy: 0.9462\n",
            "Epoch 21/50\n",
            "1719/1719 [==============================] - 14s 8ms/step - loss: 0.0349 - accuracy: 0.9895 - val_loss: 0.2638 - val_accuracy: 0.9424\n",
            "Epoch 22/50\n",
            "1719/1719 [==============================] - 14s 8ms/step - loss: 0.0325 - accuracy: 0.9902 - val_loss: 0.2728 - val_accuracy: 0.9430\n",
            "Epoch 23/50\n",
            "1719/1719 [==============================] - 14s 8ms/step - loss: 0.0299 - accuracy: 0.9910 - val_loss: 0.3018 - val_accuracy: 0.9414\n",
            "Epoch 24/50\n",
            "1719/1719 [==============================] - 14s 8ms/step - loss: 0.0283 - accuracy: 0.9915 - val_loss: 0.2904 - val_accuracy: 0.9424\n",
            "Epoch 25/50\n",
            "1719/1719 [==============================] - 14s 8ms/step - loss: 0.0264 - accuracy: 0.9918 - val_loss: 0.2952 - val_accuracy: 0.9402\n",
            "Epoch 26/50\n",
            "1719/1719 [==============================] - 14s 8ms/step - loss: 0.0241 - accuracy: 0.9927 - val_loss: 0.3005 - val_accuracy: 0.9470\n",
            "Epoch 27/50\n",
            "1719/1719 [==============================] - 14s 8ms/step - loss: 0.0214 - accuracy: 0.9935 - val_loss: 0.3532 - val_accuracy: 0.9372\n",
            "Epoch 28/50\n",
            "1719/1719 [==============================] - 14s 8ms/step - loss: 0.0208 - accuracy: 0.9939 - val_loss: 0.3282 - val_accuracy: 0.9438\n"
          ],
          "name": "stdout"
        },
        {
          "output_type": "execute_result",
          "data": {
            "text/plain": [
              "<tensorflow.python.keras.callbacks.History at 0x7f1e245d9d68>"
            ]
          },
          "metadata": {
            "tags": []
          },
          "execution_count": 32
        }
      ]
    },
    {
      "cell_type": "code",
      "metadata": {
        "id": "K7ddx65dWBQx",
        "outputId": "ebfc7148-bcf1-43c2-aa44-e0071eb038f0",
        "colab": {
          "base_uri": "https://localhost:8080/",
          "height": 50
        }
      },
      "source": [
        "model2.evaluate(X_valid, y_valid)"
      ],
      "execution_count": 33,
      "outputs": [
        {
          "output_type": "stream",
          "text": [
            "157/157 [==============================] - 0s 2ms/step - loss: 0.3282 - accuracy: 0.9438\n"
          ],
          "name": "stdout"
        },
        {
          "output_type": "execute_result",
          "data": {
            "text/plain": [
              "[0.32815584540367126, 0.9437999725341797]"
            ]
          },
          "metadata": {
            "tags": []
          },
          "execution_count": 33
        }
      ]
    },
    {
      "cell_type": "code",
      "metadata": {
        "id": "4qLaHlqIsjL6",
        "outputId": "9e2e2f0a-d008-47e7-f1f4-935819c8d6dd",
        "colab": {
          "base_uri": "https://localhost:8080/",
          "height": 52
        }
      },
      "source": [
        "\n",
        "'''\n",
        "predictions = model2.predict_classes(X_test)\n",
        "submission= pd.DataFrame({'id': kannada_test['id'], 'label': predictions})\n",
        "submission.to_csv('predictions_02.csv', index = False) \n",
        "files.download('predictions_02.csv') #  score: 0.8757 *****************************************************************************\n",
        "'''\n"
      ],
      "execution_count": 34,
      "outputs": [
        {
          "output_type": "execute_result",
          "data": {
            "application/vnd.google.colaboratory.intrinsic+json": {
              "type": "string"
            },
            "text/plain": [
              "\"\\npredictions = model2.predict_classes(X_test)\\nsubmission= pd.DataFrame({'id': kannada_test['id'], 'label': predictions})\\nsubmission.to_csv('predictions_02.csv', index = False) \\nfiles.download('predictions_02.csv') #  score: 0.8757 *****************************************************************************\\n\""
            ]
          },
          "metadata": {
            "tags": []
          },
          "execution_count": 34
        }
      ]
    },
    {
      "cell_type": "markdown",
      "metadata": {
        "id": "lpL3kWtA0_VV"
      },
      "source": [
        "## Model 3\n",
        "\n",
        "Below we have approximately the same model, but changing the learning rate (increasing it) to 5e-4 and adding batch normalisation (BN). Also reducing the patience down to 5 since this model requires a lot time (it requires better handling of the parameters and learning schedule to speed up training)\n",
        "\n",
        "More specifically, BN adds 4 parameters per input, and these are: β, γ, μ and σ,\n",
        "where:\n",
        "\n",
        "> β and γ are learnt though regular backpropagation\n",
        ">> β: the output offset (shift) vector\n",
        "\n",
        ">> γ: the output scale vector\n",
        "\n",
        "\n",
        "> μ and σ are estimated through training but they are used only after training. They are called the \"moving averages\" and they are not affected by the backpropagation (in the model summary, keras calls them \"non-trainable\" meaning untouched by the backpropagation).\n",
        ">> μ: the final input mean vector\n",
        "\n",
        ">> σ: the final input standard deviation vector\n"
      ]
    },
    {
      "cell_type": "code",
      "metadata": {
        "id": "KK7gqNKca5Xb",
        "outputId": "bd6b8127-4237-47d6-f5e9-f8401ff11cbb",
        "colab": {
          "base_uri": "https://localhost:8080/",
          "height": 102
        }
      },
      "source": [
        "# please uncomment the following code\n",
        "# it is on comments because it takes approximately 10-15 min totally to be executed (based also on when patience gets \"activated\")\n",
        "# when it was executed the result on the 30% of the test set in kaggle had score: 89.83% and 92.27% in the validation set\n",
        "\n",
        "'''\n",
        "keras.backend.clear_session()\n",
        "tf.random.set_seed(42)\n",
        "np.random.seed(42)\n",
        "\n",
        "model3 = keras.models.Sequential()\n",
        "model3.add(keras.layers.Flatten(input_shape=[28,28]))\n",
        "model3.add(keras.layers.BatchNormalization())\n",
        "for _ in range(20):\n",
        "    model3.add(keras.layers.Dense(100, kernel_initializer=\"he_normal\"))\n",
        "    model3.add(keras.layers.BatchNormalization())\n",
        "    model3.add(keras.layers.Activation(\"elu\"))\n",
        "model3.add(keras.layers.Dense(10, activation=\"softmax\"))\n",
        "\n",
        "optimizer = keras.optimizers.Nadam(lr=5e-4)\n",
        "model3.compile(loss=\"sparse_categorical_crossentropy\",\n",
        "              optimizer=optimizer,\n",
        "              metrics=[\"accuracy\"])\n",
        "\n",
        "early_stopping_cb = keras.callbacks.EarlyStopping(patience=5)\n",
        "\n",
        "callbacks = [early_stopping_cb]\n",
        "\n",
        "model3.fit(X_train, y_train, epochs=50,\n",
        "          validation_data=(X_valid, y_valid),\n",
        "          callbacks=callbacks)\n",
        "'''"
      ],
      "execution_count": 35,
      "outputs": [
        {
          "output_type": "execute_result",
          "data": {
            "application/vnd.google.colaboratory.intrinsic+json": {
              "type": "string"
            },
            "text/plain": [
              "'\\nkeras.backend.clear_session()\\ntf.random.set_seed(42)\\nnp.random.seed(42)\\n\\nmodel3 = keras.models.Sequential()\\nmodel3.add(keras.layers.Flatten(input_shape=[28,28]))\\nmodel3.add(keras.layers.BatchNormalization())\\nfor _ in range(20):\\n    model3.add(keras.layers.Dense(100, kernel_initializer=\"he_normal\"))\\n    model3.add(keras.layers.BatchNormalization())\\n    model3.add(keras.layers.Activation(\"elu\"))\\nmodel3.add(keras.layers.Dense(10, activation=\"softmax\"))\\n\\noptimizer = keras.optimizers.Nadam(lr=5e-4)\\nmodel3.compile(loss=\"sparse_categorical_crossentropy\",\\n              optimizer=optimizer,\\n              metrics=[\"accuracy\"])\\n\\nearly_stopping_cb = keras.callbacks.EarlyStopping(patience=5)\\n\\ncallbacks = [early_stopping_cb]\\n\\nmodel3.fit(X_train, y_train, epochs=50,\\n          validation_data=(X_valid, y_valid),\\n          callbacks=callbacks)\\n'"
            ]
          },
          "metadata": {
            "tags": []
          },
          "execution_count": 35
        }
      ]
    },
    {
      "cell_type": "code",
      "metadata": {
        "id": "GGfewlSbycQK"
      },
      "source": [
        "# model3.summary()"
      ],
      "execution_count": 36,
      "outputs": []
    },
    {
      "cell_type": "code",
      "metadata": {
        "id": "lySlF_daseIE",
        "outputId": "b09bc117-6fe5-472a-9a4a-0ac678bc9f2c",
        "colab": {
          "base_uri": "https://localhost:8080/",
          "height": 52
        }
      },
      "source": [
        "'''\n",
        "predictions = model3.predict_classes(X_test)\n",
        "submission= pd.DataFrame({'id': kannada_test['id'], 'label': predictions})\n",
        "submission.to_csv('predictions_3.csv', index = False) \n",
        "files.download('predictions_3.csv') #  score: 0.89833 *****************************************************************************\n",
        "'''"
      ],
      "execution_count": 37,
      "outputs": [
        {
          "output_type": "execute_result",
          "data": {
            "application/vnd.google.colaboratory.intrinsic+json": {
              "type": "string"
            },
            "text/plain": [
              "\"\\npredictions = model3.predict_classes(X_test)\\nsubmission= pd.DataFrame({'id': kannada_test['id'], 'label': predictions})\\nsubmission.to_csv('predictions_3.csv', index = False) \\nfiles.download('predictions_3.csv') #  score: 0.89833 *****************************************************************************\\n\""
            ]
          },
          "metadata": {
            "tags": []
          },
          "execution_count": 37
        }
      ]
    },
    {
      "cell_type": "markdown",
      "metadata": {
        "id": "oHyVfzvqBRs9"
      },
      "source": [
        "# From DNNs to Convolutional Neural Networks (CNNs)\n",
        "\n",
        "Compared to DNNs model, building a CNN model requires two additional blocks: convolutional layers and pooling layers. In CNNs the small regions of the visual field are called receptive fields,  kernel size reflects the shape of filters, and the latter (filters) reflect the feature maps.\n"
      ]
    },
    {
      "cell_type": "markdown",
      "metadata": {
        "id": "WiWImrVRCWDM"
      },
      "source": [
        "## CNN model\n",
        "\n",
        "Creating a CNN model, in which there are:\n",
        "\n",
        "> 64 filters (7x7). No stride-shift because the input images are not very large. Input shape will be 28,28,1 (hence it requires a right conversion) because images are 28x28 pixels, 1 because there is 1 single color channel based on the kaggle dataset information (gray scale). Also using padding=same which means that the layer's outputs will have the same spatial dimensions (width and height) as its inputs, hence the name 'same', and adam optimiser.\n",
        "\n",
        "\n",
        "> one max pooling layer with a pool size of 2. This means that it divides each spatial dimension (i.e. height and width) by a factor of 2.\n",
        "\n",
        "> We repeat the same structure twice (2 convolutional layers followed by 1 max pooling layer, doubling the filters after each pooling layer as we move forward to the output layer.\n",
        "\n",
        ">>Since the max pooling layers divides each spatial dimension by a factor of 2, we can afford to double the number of feature maps in the next layer. \n",
        "\n",
        "> Consequently, we have a fully connected network, composed of 2 hidden dense layers and a dense output layer. We have to flatten its inputs since a dense network expects a 1D array of features for each instance, and also we add 2 dropout layers with a dropout rate of 50% each to reduce overfitting.\n",
        "\n",
        ">>> First we need to fix the shape of the input images, since Keras will expect 4D tensor, by expanding the dimensions from three to four."
      ]
    },
    {
      "cell_type": "code",
      "metadata": {
        "id": "1CMI6ssMile7",
        "outputId": "cad22c83-20b8-4316-e549-f0334efa9a35",
        "colab": {
          "base_uri": "https://localhost:8080/",
          "height": 269
        }
      },
      "source": [
        "# current shape:\n",
        "\n",
        "print ('Shape of X_train is: {}'.format(X_train.shape))\n",
        "print ('Type of X_train is: {}'.format(X_train.dtype))\n",
        "print ('#****************************************************************************#')\n",
        "\n",
        "print ('Shape of X_valid is: {}'.format(X_valid.shape))\n",
        "print ('Type of X_valid is: {}'.format(X_valid.dtype))\n",
        "print ('#****************************************************************************#')\n",
        "\n",
        "print ('Shape of y_train is: {}'.format(y_train.shape))\n",
        "print ('Type of y_train is: {}'.format(y_train.dtype))\n",
        "print ('#****************************************************************************#')\n",
        "\n",
        "print ('Shape of y_valid is: {}'.format(y_valid.shape))\n",
        "print ('Type of y_valid is: {}'.format(y_valid.dtype))\n",
        "print ('#****************************************************************************#')\n",
        "\n",
        "\n",
        "print ('Shape of X_test is: {}'.format(X_test.shape))\n",
        "print ('Type of X_test is: {}'.format(X_test.dtype))\n",
        "print ('#****************************************************************************#')"
      ],
      "execution_count": 38,
      "outputs": [
        {
          "output_type": "stream",
          "text": [
            "Shape of X_train is: (55000, 28, 28)\n",
            "Type of X_train is: float64\n",
            "#****************************************************************************#\n",
            "Shape of X_valid is: (5000, 28, 28)\n",
            "Type of X_valid is: float64\n",
            "#****************************************************************************#\n",
            "Shape of y_train is: (55000,)\n",
            "Type of y_train is: int64\n",
            "#****************************************************************************#\n",
            "Shape of y_valid is: (5000,)\n",
            "Type of y_valid is: int64\n",
            "#****************************************************************************#\n",
            "Shape of X_test is: (10000, 28, 28)\n",
            "Type of X_test is: float64\n",
            "#****************************************************************************#\n"
          ],
          "name": "stdout"
        }
      ]
    },
    {
      "cell_type": "code",
      "metadata": {
        "id": "F9Bwhn27lV-I"
      },
      "source": [
        "def expand_dimension(x):\n",
        "  return np.expand_dims(x, -1)"
      ],
      "execution_count": 39,
      "outputs": []
    },
    {
      "cell_type": "code",
      "metadata": {
        "id": "tzuhu5Sxmf78"
      },
      "source": [
        "X_train = expand_dimension(X_train)\n",
        "X_test = expand_dimension(X_test)\n",
        "X_valid = expand_dimension(X_valid)"
      ],
      "execution_count": 40,
      "outputs": []
    },
    {
      "cell_type": "code",
      "metadata": {
        "id": "RWvmOBFUmiOr",
        "outputId": "4284cabf-edad-4343-f7e4-4d905c42d68d",
        "colab": {
          "base_uri": "https://localhost:8080/",
          "height": 252
        }
      },
      "source": [
        "# The new shape in 4D tensor\n",
        "print('Train: X=%s, y=%s' % (X_train.shape, y_train.shape))\n",
        "print('Test: X=%s, y=%s' % (X_test.shape, y_test.shape))\n",
        "print('Valid: X=%s, y=%s' % (X_valid.shape, y_valid.shape))\n",
        "\n",
        "\n",
        "print (\"********************************************************************************\")\n",
        "\n",
        "print(\"X_train_full shape is {}\".format(X_train_full.shape))\n",
        "\n",
        "print(\"y_train_full shape is {}\".format(y_train_full.shape))\n",
        "\n",
        "print (\"*             *             *                  *                    *             *\")\n",
        "\n",
        "print(\"X_test shape is {}\".format(X_test.shape))\n",
        "\n",
        "print(\"y_test shape is {}\".format(y_test.shape))\n",
        "\n",
        "print(\"X_valid shape is {}\".format(X_valid.shape))\n",
        "\n",
        "print(\"X_train shape is {}\".format(X_train.shape))\n",
        "\n",
        "print(\"y_valid shape is {}\".format(y_valid.shape))\n",
        "\n",
        "print(\"y_train shape is {}\".format(y_train.shape))\n",
        "print (\"********************************************************************************\")"
      ],
      "execution_count": 41,
      "outputs": [
        {
          "output_type": "stream",
          "text": [
            "Train: X=(55000, 28, 28, 1), y=(55000,)\n",
            "Test: X=(10000, 28, 28, 1), y=(10000, 10)\n",
            "Valid: X=(5000, 28, 28, 1), y=(5000,)\n",
            "********************************************************************************\n",
            "X_train_full shape is (60000, 28, 28)\n",
            "y_train_full shape is (60000,)\n",
            "*             *             *                  *                    *             *\n",
            "X_test shape is (10000, 28, 28, 1)\n",
            "y_test shape is (10000, 10)\n",
            "X_valid shape is (5000, 28, 28, 1)\n",
            "X_train shape is (55000, 28, 28, 1)\n",
            "y_valid shape is (5000,)\n",
            "y_train shape is (55000,)\n",
            "********************************************************************************\n"
          ],
          "name": "stdout"
        }
      ]
    },
    {
      "cell_type": "code",
      "metadata": {
        "id": "YwW9W6zOmj1P",
        "outputId": "9dea1449-8384-4ec7-cd62-9be53fe2f9eb",
        "colab": {
          "base_uri": "https://localhost:8080/",
          "height": 622
        }
      },
      "source": [
        "model4 = keras.models.Sequential([\n",
        "                                 \n",
        "  keras.layers.Conv2D(filters= 64, kernel_size=7, activation=\"relu\", padding=\"same\", input_shape=[28, 28, 1]), \n",
        "  keras.layers.MaxPooling2D(pool_size=2),                                                           \n",
        "\n",
        "  keras.layers.Conv2D(filters=128, kernel_size=3, activation=\"relu\", padding=\"same\"),                         \n",
        "  keras.layers.Conv2D(filters=128, kernel_size=3, activation=\"relu\", padding=\"same\"),                         \n",
        "  keras.layers.MaxPooling2D(pool_size=2),   \n",
        "\n",
        "  keras.layers.Conv2D(filters=256, kernel_size=3, activation=\"relu\", padding=\"same\"),                          \n",
        "  keras.layers.Conv2D(filters=256, kernel_size=3, activation=\"relu\", padding=\"same\"),                        \n",
        "  keras.layers.MaxPooling2D(pool_size=2),                                                           \n",
        "\n",
        "  keras.layers.Flatten(),\n",
        "  keras.layers.Dense(units=128, activation=\"relu\"),             \n",
        "  keras.layers.Dropout(0.5), \n",
        "  keras.layers.Dense(units=64, activation=\"relu\"),            \n",
        "  keras.layers.Dropout(0.5), \n",
        "\n",
        "  keras.layers.Dense(units=10, activation=\"softmax\")          \n",
        "])\n",
        "\n",
        "model4.compile(loss=\"sparse_categorical_crossentropy\", optimizer=\"adam\", metrics=[\"accuracy\"])\n",
        "\n",
        "model4.summary()"
      ],
      "execution_count": 42,
      "outputs": [
        {
          "output_type": "stream",
          "text": [
            "Model: \"sequential_1\"\n",
            "_________________________________________________________________\n",
            "Layer (type)                 Output Shape              Param #   \n",
            "=================================================================\n",
            "conv2d (Conv2D)              (None, 28, 28, 64)        3200      \n",
            "_________________________________________________________________\n",
            "max_pooling2d (MaxPooling2D) (None, 14, 14, 64)        0         \n",
            "_________________________________________________________________\n",
            "conv2d_1 (Conv2D)            (None, 14, 14, 128)       73856     \n",
            "_________________________________________________________________\n",
            "conv2d_2 (Conv2D)            (None, 14, 14, 128)       147584    \n",
            "_________________________________________________________________\n",
            "max_pooling2d_1 (MaxPooling2 (None, 7, 7, 128)         0         \n",
            "_________________________________________________________________\n",
            "conv2d_3 (Conv2D)            (None, 7, 7, 256)         295168    \n",
            "_________________________________________________________________\n",
            "conv2d_4 (Conv2D)            (None, 7, 7, 256)         590080    \n",
            "_________________________________________________________________\n",
            "max_pooling2d_2 (MaxPooling2 (None, 3, 3, 256)         0         \n",
            "_________________________________________________________________\n",
            "flatten_1 (Flatten)          (None, 2304)              0         \n",
            "_________________________________________________________________\n",
            "dense_21 (Dense)             (None, 128)               295040    \n",
            "_________________________________________________________________\n",
            "dropout (Dropout)            (None, 128)               0         \n",
            "_________________________________________________________________\n",
            "dense_22 (Dense)             (None, 64)                8256      \n",
            "_________________________________________________________________\n",
            "dropout_1 (Dropout)          (None, 64)                0         \n",
            "_________________________________________________________________\n",
            "dense_23 (Dense)             (None, 10)                650       \n",
            "=================================================================\n",
            "Total params: 1,413,834\n",
            "Trainable params: 1,413,834\n",
            "Non-trainable params: 0\n",
            "_________________________________________________________________\n"
          ],
          "name": "stdout"
        }
      ]
    },
    {
      "cell_type": "code",
      "metadata": {
        "id": "oVfSoGv9nkDZ",
        "outputId": "c5b8fe84-e289-4072-a33c-0b5bda03c6a8",
        "colab": {
          "base_uri": "https://localhost:8080/",
          "height": 857
        }
      },
      "source": [
        "history = model4.fit(X_train, y_train, epochs=25, validation_data=(X_valid, y_valid))"
      ],
      "execution_count": 43,
      "outputs": [
        {
          "output_type": "stream",
          "text": [
            "Epoch 1/25\n",
            "1719/1719 [==============================] - 10s 6ms/step - loss: 0.3892 - accuracy: 0.8764 - val_loss: 0.1361 - val_accuracy: 0.9716\n",
            "Epoch 2/25\n",
            "1719/1719 [==============================] - 10s 6ms/step - loss: 0.1100 - accuracy: 0.9729 - val_loss: 0.1201 - val_accuracy: 0.9726\n",
            "Epoch 3/25\n",
            "1719/1719 [==============================] - 10s 6ms/step - loss: 0.0800 - accuracy: 0.9803 - val_loss: 0.0839 - val_accuracy: 0.9788\n",
            "Epoch 4/25\n",
            "1719/1719 [==============================] - 10s 6ms/step - loss: 0.0646 - accuracy: 0.9846 - val_loss: 0.0731 - val_accuracy: 0.9814\n",
            "Epoch 5/25\n",
            "1719/1719 [==============================] - 10s 6ms/step - loss: 0.0530 - accuracy: 0.9874 - val_loss: 0.0908 - val_accuracy: 0.9752\n",
            "Epoch 6/25\n",
            "1719/1719 [==============================] - 10s 6ms/step - loss: 0.0481 - accuracy: 0.9883 - val_loss: 0.0938 - val_accuracy: 0.9818\n",
            "Epoch 7/25\n",
            "1719/1719 [==============================] - 10s 6ms/step - loss: 0.0440 - accuracy: 0.9889 - val_loss: 0.1222 - val_accuracy: 0.9740\n",
            "Epoch 8/25\n",
            "1719/1719 [==============================] - 10s 6ms/step - loss: 0.0416 - accuracy: 0.9909 - val_loss: 0.0930 - val_accuracy: 0.9818\n",
            "Epoch 9/25\n",
            "1719/1719 [==============================] - 10s 6ms/step - loss: 0.0352 - accuracy: 0.9914 - val_loss: 0.1770 - val_accuracy: 0.9780\n",
            "Epoch 10/25\n",
            "1719/1719 [==============================] - 10s 6ms/step - loss: 0.0353 - accuracy: 0.9912 - val_loss: 0.1795 - val_accuracy: 0.9746\n",
            "Epoch 11/25\n",
            "1719/1719 [==============================] - 10s 6ms/step - loss: 0.0331 - accuracy: 0.9917 - val_loss: 0.1292 - val_accuracy: 0.9832\n",
            "Epoch 12/25\n",
            "1719/1719 [==============================] - 10s 6ms/step - loss: 0.0281 - accuracy: 0.9933 - val_loss: 0.1493 - val_accuracy: 0.9800\n",
            "Epoch 13/25\n",
            "1719/1719 [==============================] - 10s 6ms/step - loss: 0.0340 - accuracy: 0.9921 - val_loss: 0.1120 - val_accuracy: 0.9848\n",
            "Epoch 14/25\n",
            "1719/1719 [==============================] - 10s 6ms/step - loss: 0.0284 - accuracy: 0.9933 - val_loss: 0.1663 - val_accuracy: 0.9810\n",
            "Epoch 15/25\n",
            "1719/1719 [==============================] - 10s 6ms/step - loss: 0.0331 - accuracy: 0.9933 - val_loss: 0.0797 - val_accuracy: 0.9870\n",
            "Epoch 16/25\n",
            "1719/1719 [==============================] - 10s 6ms/step - loss: 0.0293 - accuracy: 0.9933 - val_loss: 0.1240 - val_accuracy: 0.9780\n",
            "Epoch 17/25\n",
            "1719/1719 [==============================] - 10s 6ms/step - loss: 0.0256 - accuracy: 0.9942 - val_loss: 0.1758 - val_accuracy: 0.9798\n",
            "Epoch 18/25\n",
            "1719/1719 [==============================] - 10s 6ms/step - loss: 0.0286 - accuracy: 0.9936 - val_loss: 0.1156 - val_accuracy: 0.9794\n",
            "Epoch 19/25\n",
            "1719/1719 [==============================] - 10s 6ms/step - loss: 0.0242 - accuracy: 0.9944 - val_loss: 0.1957 - val_accuracy: 0.9800\n",
            "Epoch 20/25\n",
            "1719/1719 [==============================] - 10s 6ms/step - loss: 0.0256 - accuracy: 0.9945 - val_loss: 0.1714 - val_accuracy: 0.9804\n",
            "Epoch 21/25\n",
            "1719/1719 [==============================] - 10s 6ms/step - loss: 0.0237 - accuracy: 0.9947 - val_loss: 0.1654 - val_accuracy: 0.9814\n",
            "Epoch 22/25\n",
            "1719/1719 [==============================] - 10s 6ms/step - loss: 0.0306 - accuracy: 0.9940 - val_loss: 0.1372 - val_accuracy: 0.9836\n",
            "Epoch 23/25\n",
            "1719/1719 [==============================] - 10s 6ms/step - loss: 0.0212 - accuracy: 0.9952 - val_loss: 0.1394 - val_accuracy: 0.9872\n",
            "Epoch 24/25\n",
            "1719/1719 [==============================] - 10s 6ms/step - loss: 0.0280 - accuracy: 0.9942 - val_loss: 0.1676 - val_accuracy: 0.9852\n",
            "Epoch 25/25\n",
            "1719/1719 [==============================] - 10s 6ms/step - loss: 0.0228 - accuracy: 0.9949 - val_loss: 0.2028 - val_accuracy: 0.9834\n"
          ],
          "name": "stdout"
        }
      ]
    },
    {
      "cell_type": "code",
      "metadata": {
        "id": "i2p-PVpdWFSD",
        "outputId": "883a0a57-d877-4494-8513-904936ac616c",
        "colab": {
          "base_uri": "https://localhost:8080/",
          "height": 50
        }
      },
      "source": [
        "model4.evaluate(X_valid, y_valid)"
      ],
      "execution_count": 44,
      "outputs": [
        {
          "output_type": "stream",
          "text": [
            "157/157 [==============================] - 0s 3ms/step - loss: 0.2028 - accuracy: 0.9834\n"
          ],
          "name": "stdout"
        },
        {
          "output_type": "execute_result",
          "data": {
            "text/plain": [
              "[0.2027767151594162, 0.9833999872207642]"
            ]
          },
          "metadata": {
            "tags": []
          },
          "execution_count": 44
        }
      ]
    },
    {
      "cell_type": "code",
      "metadata": {
        "id": "-2FiIB4WnqwF",
        "outputId": "8f5e7d9d-bc9f-4250-8409-52041a1b51c4",
        "colab": {
          "base_uri": "https://localhost:8080/",
          "height": 52
        }
      },
      "source": [
        "'''\n",
        "predictions = model4.predict_classes(X_test)\n",
        "submission= pd.DataFrame({'id': kannada_test['id'], 'label': predictions})\n",
        "submission.to_csv('predictions_cnn01.csv', index = False) \n",
        "files.download('predictions_cnn01.csv') # score: 0.9650  *****************************************************************************\n",
        "'''"
      ],
      "execution_count": 45,
      "outputs": [
        {
          "output_type": "execute_result",
          "data": {
            "application/vnd.google.colaboratory.intrinsic+json": {
              "type": "string"
            },
            "text/plain": [
              "\"\\npredictions = model4.predict_classes(X_test)\\nsubmission= pd.DataFrame({'id': kannada_test['id'], 'label': predictions})\\nsubmission.to_csv('predictions_cnn01.csv', index = False) \\nfiles.download('predictions_cnn01.csv') # score: 0.9650  *****************************************************************************\\n\""
            ]
          },
          "metadata": {
            "tags": []
          },
          "execution_count": 45
        }
      ]
    },
    {
      "cell_type": "code",
      "metadata": {
        "id": "8eoePPwMNeIi",
        "outputId": "eb4ce125-c609-42a1-b084-d38cbe15b274",
        "colab": {
          "base_uri": "https://localhost:8080/",
          "height": 339
        }
      },
      "source": [
        "pd.DataFrame(history.history).plot(figsize=(8, 5))\n",
        "plt.grid(True)\n",
        "plt.gca().set_ylim(0, 1) # setting the vertical range to [0,1]\n",
        "plt.title('Learning Curves of the training loss & accuracy over each epoch - Mean validation loss and accuracy at the end of each epoch')\n",
        "plt.show()\n",
        "\n",
        "# Training and validation curves are close between them, \n",
        "# fact which implies that not too much overfitting is taking place\n",
        "# although the flunctations of the curves seem bigger than those of the 1st DNN model "
      ],
      "execution_count": 46,
      "outputs": [
        {
          "output_type": "display_data",
          "data": {
            "image/png": "[encoded data removed]",
            "text/plain": [
              "<Figure size 576x360 with 1 Axes>"
            ]
          },
          "metadata": {
            "tags": [],
            "needs_background": "light"
          }
        }
      ]
    },
    {
      "cell_type": "markdown",
      "metadata": {
        "id": "zpJsw8pB3MK5"
      },
      "source": [
        "## Model 5"
      ]
    },
    {
      "cell_type": "code",
      "metadata": {
        "id": "XKHsNmHN3E-n",
        "outputId": "c4975247-d00f-4806-e55b-83040acb9c2a",
        "colab": {
          "base_uri": "https://localhost:8080/",
          "height": 1000
        }
      },
      "source": [
        "\n",
        "model5 = keras.models.Sequential([\n",
        "                                 \n",
        "  keras.layers.Conv2D(filters= 64, kernel_size=7, activation=\"relu\", padding=\"same\", input_shape=[28, 28, 1]), \n",
        "  keras.layers.Conv2D(filters=128, kernel_size=3, activation=\"relu\", padding=\"same\"),   \n",
        "  keras.layers.BatchNormalization(),\n",
        "  keras.layers.MaxPooling2D(pool_size=2),  \n",
        "                                        \n",
        "\n",
        "  keras.layers.Conv2D(filters=128, kernel_size=3, activation=\"relu\", padding=\"same\"),                         \n",
        "  keras.layers.Conv2D(filters=128, kernel_size=3, activation=\"relu\", padding=\"same\"),    \n",
        "  keras.layers.BatchNormalization(),                  \n",
        "  keras.layers.MaxPooling2D(pool_size=2), \n",
        "                                                                    \n",
        "\n",
        "  keras.layers.Conv2D(filters=256, kernel_size=3, activation=\"relu\", padding=\"same\"),                          \n",
        "  keras.layers.Conv2D(filters=256, kernel_size=3, activation=\"relu\", padding=\"same\"),    \n",
        "  keras.layers.BatchNormalization(),                    \n",
        "  keras.layers.MaxPooling2D(pool_size=2),      \n",
        "  keras.layers.Dropout(0.50),                                                  \n",
        "\n",
        "\n",
        "  keras.layers.Flatten(),\n",
        "  keras.layers.Dense(units=128, activation=\"relu\"),             \n",
        "  keras.layers.Dropout(0.5), \n",
        "  keras.layers.Dense(units=64, activation=\"relu\"),            \n",
        "  keras.layers.Dropout(0.50), \n",
        "\n",
        "  keras.layers.Dense(units=10, activation=\"softmax\")          \n",
        "])\n",
        "\n",
        "model5.compile(loss=\"sparse_categorical_crossentropy\", optimizer=\"adam\", metrics=[\"accuracy\"])\n",
        "\n",
        "model5.summary()\n",
        "\n",
        "history = model5.fit(X_train, y_train, epochs=25, validation_data=(X_valid, y_valid))\n"
      ],
      "execution_count": 47,
      "outputs": [
        {
          "output_type": "stream",
          "text": [
            "Model: \"sequential_2\"\n",
            "_________________________________________________________________\n",
            "Layer (type)                 Output Shape              Param #   \n",
            "=================================================================\n",
            "conv2d_5 (Conv2D)            (None, 28, 28, 64)        3200      \n",
            "_________________________________________________________________\n",
            "conv2d_6 (Conv2D)            (None, 28, 28, 128)       73856     \n",
            "_________________________________________________________________\n",
            "batch_normalization (BatchNo (None, 28, 28, 128)       512       \n",
            "_________________________________________________________________\n",
            "max_pooling2d_3 (MaxPooling2 (None, 14, 14, 128)       0         \n",
            "_________________________________________________________________\n",
            "conv2d_7 (Conv2D)            (None, 14, 14, 128)       147584    \n",
            "_________________________________________________________________\n",
            "conv2d_8 (Conv2D)            (None, 14, 14, 128)       147584    \n",
            "_________________________________________________________________\n",
            "batch_normalization_1 (Batch (None, 14, 14, 128)       512       \n",
            "_________________________________________________________________\n",
            "max_pooling2d_4 (MaxPooling2 (None, 7, 7, 128)         0         \n",
            "_________________________________________________________________\n",
            "conv2d_9 (Conv2D)            (None, 7, 7, 256)         295168    \n",
            "_________________________________________________________________\n",
            "conv2d_10 (Conv2D)           (None, 7, 7, 256)         590080    \n",
            "_________________________________________________________________\n",
            "batch_normalization_2 (Batch (None, 7, 7, 256)         1024      \n",
            "_________________________________________________________________\n",
            "max_pooling2d_5 (MaxPooling2 (None, 3, 3, 256)         0         \n",
            "_________________________________________________________________\n",
            "dropout_2 (Dropout)          (None, 3, 3, 256)         0         \n",
            "_________________________________________________________________\n",
            "flatten_2 (Flatten)          (None, 2304)              0         \n",
            "_________________________________________________________________\n",
            "dense_24 (Dense)             (None, 128)               295040    \n",
            "_________________________________________________________________\n",
            "dropout_3 (Dropout)          (None, 128)               0         \n",
            "_________________________________________________________________\n",
            "dense_25 (Dense)             (None, 64)                8256      \n",
            "_________________________________________________________________\n",
            "dropout_4 (Dropout)          (None, 64)                0         \n",
            "_________________________________________________________________\n",
            "dense_26 (Dense)             (None, 10)                650       \n",
            "=================================================================\n",
            "Total params: 1,563,466\n",
            "Trainable params: 1,562,442\n",
            "Non-trainable params: 1,024\n",
            "_________________________________________________________________\n",
            "Epoch 1/25\n",
            "1719/1719 [==============================] - 17s 10ms/step - loss: 0.6642 - accuracy: 0.7895 - val_loss: 0.1041 - val_accuracy: 0.9744\n",
            "Epoch 2/25\n",
            "1719/1719 [==============================] - 17s 10ms/step - loss: 0.1862 - accuracy: 0.9497 - val_loss: 0.1969 - val_accuracy: 0.9578\n",
            "Epoch 3/25\n",
            "1719/1719 [==============================] - 17s 10ms/step - loss: 0.1373 - accuracy: 0.9646 - val_loss: 0.0993 - val_accuracy: 0.9744\n",
            "Epoch 4/25\n",
            "1719/1719 [==============================] - 17s 10ms/step - loss: 0.1150 - accuracy: 0.9706 - val_loss: 0.1022 - val_accuracy: 0.9732\n",
            "Epoch 5/25\n",
            "1719/1719 [==============================] - 17s 10ms/step - loss: 0.1027 - accuracy: 0.9734 - val_loss: 0.1140 - val_accuracy: 0.9744\n",
            "Epoch 6/25\n",
            "1719/1719 [==============================] - 17s 10ms/step - loss: 0.0877 - accuracy: 0.9769 - val_loss: 0.0954 - val_accuracy: 0.9826\n",
            "Epoch 7/25\n",
            "1719/1719 [==============================] - 17s 10ms/step - loss: 0.0837 - accuracy: 0.9776 - val_loss: 0.0972 - val_accuracy: 0.9788\n",
            "Epoch 8/25\n",
            "1719/1719 [==============================] - 17s 10ms/step - loss: 0.0736 - accuracy: 0.9811 - val_loss: 0.1329 - val_accuracy: 0.9790\n",
            "Epoch 9/25\n",
            "1719/1719 [==============================] - 17s 10ms/step - loss: 0.0681 - accuracy: 0.9827 - val_loss: 0.1526 - val_accuracy: 0.9794\n",
            "Epoch 10/25\n",
            "1719/1719 [==============================] - 17s 10ms/step - loss: 0.0576 - accuracy: 0.9849 - val_loss: 0.0842 - val_accuracy: 0.9854\n",
            "Epoch 11/25\n",
            "1719/1719 [==============================] - 17s 10ms/step - loss: 0.0579 - accuracy: 0.9841 - val_loss: 0.0908 - val_accuracy: 0.9866\n",
            "Epoch 12/25\n",
            "1719/1719 [==============================] - 17s 10ms/step - loss: 0.0557 - accuracy: 0.9849 - val_loss: 0.1400 - val_accuracy: 0.9834\n",
            "Epoch 13/25\n",
            "1719/1719 [==============================] - 17s 10ms/step - loss: 0.0479 - accuracy: 0.9868 - val_loss: 0.1208 - val_accuracy: 0.9856\n",
            "Epoch 14/25\n",
            "1719/1719 [==============================] - 17s 10ms/step - loss: 0.0499 - accuracy: 0.9862 - val_loss: 0.1473 - val_accuracy: 0.9832\n",
            "Epoch 15/25\n",
            "1719/1719 [==============================] - 17s 10ms/step - loss: 0.0419 - accuracy: 0.9883 - val_loss: 0.1440 - val_accuracy: 0.9878\n",
            "Epoch 16/25\n",
            "1719/1719 [==============================] - 17s 10ms/step - loss: 0.0415 - accuracy: 0.9892 - val_loss: 0.1534 - val_accuracy: 0.9832\n",
            "Epoch 17/25\n",
            "1719/1719 [==============================] - 17s 10ms/step - loss: 0.0402 - accuracy: 0.9887 - val_loss: 0.1194 - val_accuracy: 0.9872\n",
            "Epoch 18/25\n",
            "1719/1719 [==============================] - 17s 10ms/step - loss: 0.0405 - accuracy: 0.9891 - val_loss: 0.1396 - val_accuracy: 0.9870\n",
            "Epoch 19/25\n",
            "1719/1719 [==============================] - 17s 10ms/step - loss: 0.0360 - accuracy: 0.9895 - val_loss: 0.1344 - val_accuracy: 0.9806\n",
            "Epoch 20/25\n",
            "1719/1719 [==============================] - 17s 10ms/step - loss: 0.0331 - accuracy: 0.9907 - val_loss: 0.1444 - val_accuracy: 0.9852\n",
            "Epoch 21/25\n",
            "1719/1719 [==============================] - 17s 10ms/step - loss: 0.0331 - accuracy: 0.9923 - val_loss: 0.1856 - val_accuracy: 0.9880\n",
            "Epoch 22/25\n",
            "1719/1719 [==============================] - 17s 10ms/step - loss: 0.0279 - accuracy: 0.9931 - val_loss: 0.1381 - val_accuracy: 0.9870\n",
            "Epoch 23/25\n",
            "1719/1719 [==============================] - 17s 10ms/step - loss: 0.0339 - accuracy: 0.9925 - val_loss: 0.1427 - val_accuracy: 0.9840\n",
            "Epoch 24/25\n",
            "1719/1719 [==============================] - 17s 10ms/step - loss: 0.0265 - accuracy: 0.9940 - val_loss: 0.1372 - val_accuracy: 0.9884\n",
            "Epoch 25/25\n",
            "1719/1719 [==============================] - 17s 10ms/step - loss: 0.0260 - accuracy: 0.9938 - val_loss: 0.2066 - val_accuracy: 0.9848\n"
          ],
          "name": "stdout"
        }
      ]
    },
    {
      "cell_type": "code",
      "metadata": {
        "id": "az1KpB3d3INT",
        "outputId": "2a285798-ffd9-42ad-f64b-bb881df89b17",
        "colab": {
          "base_uri": "https://localhost:8080/",
          "height": 52
        }
      },
      "source": [
        "'''\n",
        "predictions = model5.predict_classes(X_test)\n",
        "submission= pd.DataFrame({'id': kannada_test['id'], 'label': predictions})\n",
        "submission.to_csv('predictions_cnn_model55.csv', index = False) \n",
        "files.download('predictions_cnn_model55.csv') # score: 0.97133  *****************************************************************************\n",
        "'''\n"
      ],
      "execution_count": 48,
      "outputs": [
        {
          "output_type": "execute_result",
          "data": {
            "application/vnd.google.colaboratory.intrinsic+json": {
              "type": "string"
            },
            "text/plain": [
              "\"\\npredictions = model5.predict_classes(X_test)\\nsubmission= pd.DataFrame({'id': kannada_test['id'], 'label': predictions})\\nsubmission.to_csv('predictions_cnn_model55.csv', index = False) \\nfiles.download('predictions_cnn_model55.csv') # score: 0.97133  *****************************************************************************\\n\""
            ]
          },
          "metadata": {
            "tags": []
          },
          "execution_count": 48
        }
      ]
    },
    {
      "cell_type": "markdown",
      "metadata": {
        "id": "4J1MpmNUpelL"
      },
      "source": [
        "# Conclusions\n",
        "\n",
        "As expected, the CNN models performed better compared to the three previous DNN models.\n",
        "\n",
        "In general, some of the main differences among DNNs and CNNs (and advantages over CNNs) are that:\n",
        "-\tOnce a DNN has learned to recognise a pattern in one location, it can recognise it only in that particular location. On the contrary, once a CNN has learned to recognise a pattern in one location, it can recognise it in any other location.\n",
        "-\tCNNs consist of consecutive layers which are only partially connected and they heavily reuse their weights. This fact makes CNNs to have fewer parameters than a fully connected, being faster to train, reducing risk of overfitting and requiring less training data.\n",
        "\n",
        "\n",
        "\n"
      ]
    },
    {
      "cell_type": "markdown",
      "metadata": {
        "id": "GKAo5MPWcu6G"
      },
      "source": [
        " Model|Number|Parameters and Configuration| Validation set| Test set (30%)\n",
        "--- | ||---|--\n",
        "DNN |1|Gradient Descent - Sequential API / 2 hidden layers with 300 and 100 neurons each/ ReLU activation function/ SGD optimiser|95.64%| 95.53%\n",
        "DNN |2|20 hidden layers, 50 neurons each/ He normal initialisation/ ELU activation function/ nadam optimiser/ lr=5e-5| 94.38%| 87.57%\n",
        "DNN |3| Approximately same as model 2 but: lr= 5e-4 plus Batch Normalisation |92.27%|89.83%\n",
        "CNN |4| 5 convolutional layers with ascending number of filters as moving towards the output layer/ 3 max pooling layers/ adam optimiser/ 2 dropout layers of 50%|98.26%|96.50%\n",
        "CNN |5 |Model 4 plus 1 convolutional layer, plus  Batch Normalisation and one more dropping layer |98.48%|97.13%"
      ]
    },
    {
      "cell_type": "markdown",
      "metadata": {
        "id": "oJROGMn4djgw"
      },
      "source": [
        "The above figure illustrates the models' scores both in validation set and kaggle's test set (divergence in results might occur when models' execution is repeated). \n",
        "\n",
        "Overall and specifically for this particular task, the 2nd CNN model (\"model 5\") reached 98.48% classification accuracy in the validation set and approximately 97.13% accuracy in the test set (based on 30% of the available test set in kaggle competition) being our benchmark. It is an extended version of the first CNN model (\"model 4\") in which we added an extra convolutional layer after the first one, we also added batch normalisation before every max pooling layer for trying to alleviate the unstable gradients problem, and finally one more dropout layer of 50% rate was added (before flattening the inputs) in order to avoid even more overfitting in this deeper network.\n",
        "\n",
        "As a consequence, the second CNN model (\"model 5\") is our baseline for this task not only because it got the highest result, but because it can also be supported it can generalise better compared to the previous models. In kaggle competition, the second and third choice is the 4th and 1st model respectively."
      ]
    }
  ]
}